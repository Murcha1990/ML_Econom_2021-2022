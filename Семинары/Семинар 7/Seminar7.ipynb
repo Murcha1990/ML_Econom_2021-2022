{
 "cells": [
  {
   "cell_type": "markdown",
   "id": "3f5e636c",
   "metadata": {},
   "source": [
    "# Тема семинара: отбор признаков\n",
    "\n",
    "- Фильтрационные методы\n",
    "- Оберточные методы\n",
    "- Встроенные методы\n",
    "- Метод главных компонент или PCA"
   ]
  },
  {
   "cell_type": "code",
   "execution_count": 1,
   "id": "aed61698",
   "metadata": {
    "ExecuteTime": {
     "end_time": "2021-10-24T20:18:13.375480Z",
     "start_time": "2021-10-24T20:18:12.954646Z"
    }
   },
   "outputs": [],
   "source": [
    "import pandas as pd"
   ]
  },
  {
   "cell_type": "code",
   "execution_count": 62,
   "id": "29a2c646",
   "metadata": {
    "ExecuteTime": {
     "end_time": "2021-10-24T20:18:13.744445Z",
     "start_time": "2021-10-24T20:18:13.737712Z"
    }
   },
   "outputs": [],
   "source": [
    "data = pd.read_csv('Pokemon.csv')"
   ]
  },
  {
   "cell_type": "code",
   "execution_count": 63,
   "id": "69a8299d",
   "metadata": {
    "ExecuteTime": {
     "end_time": "2021-10-24T20:18:14.174945Z",
     "start_time": "2021-10-24T20:18:14.154295Z"
    }
   },
   "outputs": [
    {
     "data": {
      "text/html": [
       "<div>\n",
       "<style scoped>\n",
       "    .dataframe tbody tr th:only-of-type {\n",
       "        vertical-align: middle;\n",
       "    }\n",
       "\n",
       "    .dataframe tbody tr th {\n",
       "        vertical-align: top;\n",
       "    }\n",
       "\n",
       "    .dataframe thead th {\n",
       "        text-align: right;\n",
       "    }\n",
       "</style>\n",
       "<table border=\"1\" class=\"dataframe\">\n",
       "  <thead>\n",
       "    <tr style=\"text-align: right;\">\n",
       "      <th></th>\n",
       "      <th>#</th>\n",
       "      <th>Name</th>\n",
       "      <th>Type 1</th>\n",
       "      <th>Type 2</th>\n",
       "      <th>Total</th>\n",
       "      <th>HP</th>\n",
       "      <th>Attack</th>\n",
       "      <th>Defense</th>\n",
       "      <th>Sp. Atk</th>\n",
       "      <th>Sp. Def</th>\n",
       "      <th>Speed</th>\n",
       "      <th>Generation</th>\n",
       "      <th>Legendary</th>\n",
       "    </tr>\n",
       "  </thead>\n",
       "  <tbody>\n",
       "    <tr>\n",
       "      <th>0</th>\n",
       "      <td>1</td>\n",
       "      <td>Bulbasaur</td>\n",
       "      <td>Grass</td>\n",
       "      <td>Poison</td>\n",
       "      <td>318</td>\n",
       "      <td>45</td>\n",
       "      <td>49</td>\n",
       "      <td>49</td>\n",
       "      <td>65</td>\n",
       "      <td>65</td>\n",
       "      <td>45</td>\n",
       "      <td>1</td>\n",
       "      <td>False</td>\n",
       "    </tr>\n",
       "    <tr>\n",
       "      <th>1</th>\n",
       "      <td>2</td>\n",
       "      <td>Ivysaur</td>\n",
       "      <td>Grass</td>\n",
       "      <td>Poison</td>\n",
       "      <td>405</td>\n",
       "      <td>60</td>\n",
       "      <td>62</td>\n",
       "      <td>63</td>\n",
       "      <td>80</td>\n",
       "      <td>80</td>\n",
       "      <td>60</td>\n",
       "      <td>1</td>\n",
       "      <td>False</td>\n",
       "    </tr>\n",
       "    <tr>\n",
       "      <th>2</th>\n",
       "      <td>3</td>\n",
       "      <td>Venusaur</td>\n",
       "      <td>Grass</td>\n",
       "      <td>Poison</td>\n",
       "      <td>525</td>\n",
       "      <td>80</td>\n",
       "      <td>82</td>\n",
       "      <td>83</td>\n",
       "      <td>100</td>\n",
       "      <td>100</td>\n",
       "      <td>80</td>\n",
       "      <td>1</td>\n",
       "      <td>False</td>\n",
       "    </tr>\n",
       "    <tr>\n",
       "      <th>3</th>\n",
       "      <td>3</td>\n",
       "      <td>VenusaurMega Venusaur</td>\n",
       "      <td>Grass</td>\n",
       "      <td>Poison</td>\n",
       "      <td>625</td>\n",
       "      <td>80</td>\n",
       "      <td>100</td>\n",
       "      <td>123</td>\n",
       "      <td>122</td>\n",
       "      <td>120</td>\n",
       "      <td>80</td>\n",
       "      <td>1</td>\n",
       "      <td>False</td>\n",
       "    </tr>\n",
       "    <tr>\n",
       "      <th>4</th>\n",
       "      <td>4</td>\n",
       "      <td>Charmander</td>\n",
       "      <td>Fire</td>\n",
       "      <td>NaN</td>\n",
       "      <td>309</td>\n",
       "      <td>39</td>\n",
       "      <td>52</td>\n",
       "      <td>43</td>\n",
       "      <td>60</td>\n",
       "      <td>50</td>\n",
       "      <td>65</td>\n",
       "      <td>1</td>\n",
       "      <td>False</td>\n",
       "    </tr>\n",
       "    <tr>\n",
       "      <th>...</th>\n",
       "      <td>...</td>\n",
       "      <td>...</td>\n",
       "      <td>...</td>\n",
       "      <td>...</td>\n",
       "      <td>...</td>\n",
       "      <td>...</td>\n",
       "      <td>...</td>\n",
       "      <td>...</td>\n",
       "      <td>...</td>\n",
       "      <td>...</td>\n",
       "      <td>...</td>\n",
       "      <td>...</td>\n",
       "      <td>...</td>\n",
       "    </tr>\n",
       "    <tr>\n",
       "      <th>795</th>\n",
       "      <td>719</td>\n",
       "      <td>Diancie</td>\n",
       "      <td>Rock</td>\n",
       "      <td>Fairy</td>\n",
       "      <td>600</td>\n",
       "      <td>50</td>\n",
       "      <td>100</td>\n",
       "      <td>150</td>\n",
       "      <td>100</td>\n",
       "      <td>150</td>\n",
       "      <td>50</td>\n",
       "      <td>6</td>\n",
       "      <td>True</td>\n",
       "    </tr>\n",
       "    <tr>\n",
       "      <th>796</th>\n",
       "      <td>719</td>\n",
       "      <td>DiancieMega Diancie</td>\n",
       "      <td>Rock</td>\n",
       "      <td>Fairy</td>\n",
       "      <td>700</td>\n",
       "      <td>50</td>\n",
       "      <td>160</td>\n",
       "      <td>110</td>\n",
       "      <td>160</td>\n",
       "      <td>110</td>\n",
       "      <td>110</td>\n",
       "      <td>6</td>\n",
       "      <td>True</td>\n",
       "    </tr>\n",
       "    <tr>\n",
       "      <th>797</th>\n",
       "      <td>720</td>\n",
       "      <td>HoopaHoopa Confined</td>\n",
       "      <td>Psychic</td>\n",
       "      <td>Ghost</td>\n",
       "      <td>600</td>\n",
       "      <td>80</td>\n",
       "      <td>110</td>\n",
       "      <td>60</td>\n",
       "      <td>150</td>\n",
       "      <td>130</td>\n",
       "      <td>70</td>\n",
       "      <td>6</td>\n",
       "      <td>True</td>\n",
       "    </tr>\n",
       "    <tr>\n",
       "      <th>798</th>\n",
       "      <td>720</td>\n",
       "      <td>HoopaHoopa Unbound</td>\n",
       "      <td>Psychic</td>\n",
       "      <td>Dark</td>\n",
       "      <td>680</td>\n",
       "      <td>80</td>\n",
       "      <td>160</td>\n",
       "      <td>60</td>\n",
       "      <td>170</td>\n",
       "      <td>130</td>\n",
       "      <td>80</td>\n",
       "      <td>6</td>\n",
       "      <td>True</td>\n",
       "    </tr>\n",
       "    <tr>\n",
       "      <th>799</th>\n",
       "      <td>721</td>\n",
       "      <td>Volcanion</td>\n",
       "      <td>Fire</td>\n",
       "      <td>Water</td>\n",
       "      <td>600</td>\n",
       "      <td>80</td>\n",
       "      <td>110</td>\n",
       "      <td>120</td>\n",
       "      <td>130</td>\n",
       "      <td>90</td>\n",
       "      <td>70</td>\n",
       "      <td>6</td>\n",
       "      <td>True</td>\n",
       "    </tr>\n",
       "  </tbody>\n",
       "</table>\n",
       "<p>800 rows × 13 columns</p>\n",
       "</div>"
      ],
      "text/plain": [
       "       #                   Name   Type 1  Type 2  Total  HP  Attack  Defense  \\\n",
       "0      1              Bulbasaur    Grass  Poison    318  45      49       49   \n",
       "1      2                Ivysaur    Grass  Poison    405  60      62       63   \n",
       "2      3               Venusaur    Grass  Poison    525  80      82       83   \n",
       "3      3  VenusaurMega Venusaur    Grass  Poison    625  80     100      123   \n",
       "4      4             Charmander     Fire     NaN    309  39      52       43   \n",
       "..   ...                    ...      ...     ...    ...  ..     ...      ...   \n",
       "795  719                Diancie     Rock   Fairy    600  50     100      150   \n",
       "796  719    DiancieMega Diancie     Rock   Fairy    700  50     160      110   \n",
       "797  720    HoopaHoopa Confined  Psychic   Ghost    600  80     110       60   \n",
       "798  720     HoopaHoopa Unbound  Psychic    Dark    680  80     160       60   \n",
       "799  721              Volcanion     Fire   Water    600  80     110      120   \n",
       "\n",
       "     Sp. Atk  Sp. Def  Speed  Generation  Legendary  \n",
       "0         65       65     45           1      False  \n",
       "1         80       80     60           1      False  \n",
       "2        100      100     80           1      False  \n",
       "3        122      120     80           1      False  \n",
       "4         60       50     65           1      False  \n",
       "..       ...      ...    ...         ...        ...  \n",
       "795      100      150     50           6       True  \n",
       "796      160      110    110           6       True  \n",
       "797      150      130     70           6       True  \n",
       "798      170      130     80           6       True  \n",
       "799      130       90     70           6       True  \n",
       "\n",
       "[800 rows x 13 columns]"
      ]
     },
     "execution_count": 63,
     "metadata": {},
     "output_type": "execute_result"
    }
   ],
   "source": [
    "data"
   ]
  },
  {
   "cell_type": "markdown",
   "id": "40294270",
   "metadata": {},
   "source": [
    "Columns description (it's crucial!)\n",
    "\n",
    "\n",
    "- #: ID for each pokemon\n",
    "- Name: Name of each pokemon\n",
    "- Type 1: Each pokemon has a type, this determines weakness/resistance to attacks\n",
    "- Type 2: Some pokemon are dual type and have 2\n",
    "- Total: sum of all stats that come after this, a general guide to how strong a pokemon is\n",
    "- HP: hit points, or health, defines how much damage a pokemon can withstand before fainting\n",
    "- Attack: the base modifier for normal attacks (eg. Scratch, Punch)\n",
    "- Defense: the base damage resistance against normal attacks\n",
    "- SP Atk: special attack, the base modifier for special attacks (e.g. fire blast, bubble beam)\n",
    "- SP Def: the base damage resistance against special attacks\n",
    "- Speed: determines which pokemon attacks first each round"
   ]
  },
  {
   "cell_type": "code",
   "execution_count": 64,
   "id": "4a271f5c",
   "metadata": {
    "ExecuteTime": {
     "end_time": "2021-10-24T20:18:18.393785Z",
     "start_time": "2021-10-24T20:18:18.385916Z"
    }
   },
   "outputs": [
    {
     "data": {
      "text/plain": [
       "#               0\n",
       "Name            0\n",
       "Type 1          0\n",
       "Type 2        386\n",
       "Total           0\n",
       "HP              0\n",
       "Attack          0\n",
       "Defense         0\n",
       "Sp. Atk         0\n",
       "Sp. Def         0\n",
       "Speed           0\n",
       "Generation      0\n",
       "Legendary       0\n",
       "dtype: int64"
      ]
     },
     "metadata": {},
     "output_type": "display_data"
    }
   ],
   "source": [
    "# fillna and drop useless cols\n",
    "\n",
    "display(data.isnull().sum())\n",
    "data['Type 2'] = data['Type 2'].fillna('No 2nd type')\n",
    "\n",
    "data.drop(columns=['#', 'Name'], inplace=True)"
   ]
  },
  {
   "cell_type": "code",
   "execution_count": 65,
   "id": "6ce9d92b",
   "metadata": {
    "ExecuteTime": {
     "end_time": "2021-10-24T20:18:19.432056Z",
     "start_time": "2021-10-24T20:18:19.428250Z"
    }
   },
   "outputs": [],
   "source": [
    "X = data.drop(columns='Legendary')\n",
    "y = data['Legendary'].astype('int')"
   ]
  },
  {
   "cell_type": "code",
   "execution_count": 66,
   "id": "91c2b76a",
   "metadata": {
    "ExecuteTime": {
     "end_time": "2021-10-24T20:18:20.023876Z",
     "start_time": "2021-10-24T20:18:20.018390Z"
    }
   },
   "outputs": [
    {
     "data": {
      "text/plain": [
       "0    0.91875\n",
       "1    0.08125\n",
       "Name: Legendary, dtype: float64"
      ]
     },
     "execution_count": 66,
     "metadata": {},
     "output_type": "execute_result"
    }
   ],
   "source": [
    "y.value_counts(normalize=True)"
   ]
  },
  {
   "cell_type": "markdown",
   "id": "42ef3b76",
   "metadata": {},
   "source": [
    "# Make some default pipeline"
   ]
  },
  {
   "cell_type": "code",
   "execution_count": 7,
   "id": "d3fbc11e",
   "metadata": {
    "ExecuteTime": {
     "end_time": "2021-10-24T20:18:25.238240Z",
     "start_time": "2021-10-24T20:18:24.565781Z"
    }
   },
   "outputs": [],
   "source": [
    "from sklearn.feature_selection import SelectKBest, SelectPercentile\n",
    "from sklearn.pipeline import Pipeline\n",
    "from sklearn.preprocessing import PolynomialFeatures, StandardScaler\n",
    "from category_encoders.leave_one_out import LeaveOneOutEncoder\n",
    "from sklearn.svm import SVC\n",
    "from sklearn.model_selection import cross_validate\n",
    "import sklearn"
   ]
  },
  {
   "cell_type": "code",
   "execution_count": 8,
   "id": "db4dc8a2",
   "metadata": {
    "ExecuteTime": {
     "end_time": "2021-10-24T20:18:25.243494Z",
     "start_time": "2021-10-24T20:18:25.240399Z"
    }
   },
   "outputs": [],
   "source": [
    "# define cat_cols\n",
    "\n",
    "cat_cols = ['Type 1', 'Type 2']\n",
    "\n",
    "default_pipeline = Pipeline([\n",
    "    ('cat_encoder_', LeaveOneOutEncoder(cols=cat_cols)),\n",
    "    ('scaler_', StandardScaler()),\n",
    "    ('model_', SVC(kernel='linear'))]\n",
    ")"
   ]
  },
  {
   "cell_type": "code",
   "execution_count": 9,
   "id": "0388c711",
   "metadata": {
    "ExecuteTime": {
     "end_time": "2021-10-24T20:18:31.094311Z",
     "start_time": "2021-10-24T20:18:30.089861Z"
    }
   },
   "outputs": [],
   "source": [
    "cv_res1 = cross_validate(default_pipeline,\n",
    "                        X,\n",
    "                        y,\n",
    "                        cv=5,\n",
    "                        scoring='f1',\n",
    "                        n_jobs=-1,\n",
    "                        return_train_score=True\n",
    "                       )"
   ]
  },
  {
   "cell_type": "code",
   "execution_count": 10,
   "id": "5513cdd0",
   "metadata": {
    "ExecuteTime": {
     "end_time": "2021-10-24T20:18:33.772638Z",
     "start_time": "2021-10-24T20:18:33.767530Z"
    }
   },
   "outputs": [
    {
     "data": {
      "text/plain": [
       "{'fit_time': array([0.05099964, 0.05500221, 0.04900098, 0.05799985, 0.04699564]),\n",
       " 'score_time': array([0.01300311, 0.01400089, 0.01200008, 0.01400065, 0.01300478]),\n",
       " 'test_score': array([0.5       , 0.72727273, 0.47619048, 0.38095238, 0.64864865]),\n",
       " 'train_score': array([0.71287129, 0.56097561, 0.6744186 , 0.7311828 , 0.72727273])}"
      ]
     },
     "execution_count": 10,
     "metadata": {},
     "output_type": "execute_result"
    }
   ],
   "source": [
    "cv_res1"
   ]
  },
  {
   "cell_type": "code",
   "execution_count": 11,
   "id": "cdf1fdc0",
   "metadata": {
    "ExecuteTime": {
     "end_time": "2021-10-24T20:19:02.086505Z",
     "start_time": "2021-10-24T20:19:02.082394Z"
    }
   },
   "outputs": [
    {
     "data": {
      "text/plain": [
       "0.5466128466128467"
      ]
     },
     "execution_count": 11,
     "metadata": {},
     "output_type": "execute_result"
    }
   ],
   "source": [
    "cv_res1['test_score'].mean()"
   ]
  },
  {
   "cell_type": "markdown",
   "id": "417004bb",
   "metadata": {},
   "source": [
    "# Make pipeline more complicated"
   ]
  },
  {
   "cell_type": "code",
   "execution_count": 12,
   "id": "cc502d0e",
   "metadata": {
    "ExecuteTime": {
     "end_time": "2021-10-24T20:19:08.097819Z",
     "start_time": "2021-10-24T20:19:08.094458Z"
    }
   },
   "outputs": [],
   "source": [
    "# difficult pipeline\n",
    "\n",
    "pipe_dif = Pipeline([\n",
    "    ('cat_encoder_', LeaveOneOutEncoder(cols=cat_cols)),\n",
    "    ('poly_featurizer_', PolynomialFeatures(degree=4)),\n",
    "    ('scaler_', StandardScaler()),\n",
    "    ('model_', SVC(kernel='linear'))]\n",
    ")"
   ]
  },
  {
   "cell_type": "code",
   "execution_count": 13,
   "id": "7c4f8152",
   "metadata": {
    "ExecuteTime": {
     "end_time": "2021-10-24T20:19:11.534278Z",
     "start_time": "2021-10-24T20:19:10.844040Z"
    }
   },
   "outputs": [
    {
     "data": {
      "text/plain": [
       "{'fit_time': array([0.16700172, 0.17900038, 0.17099929, 0.1769979 , 0.18400025]),\n",
       " 'score_time': array([0.02399874, 0.01899815, 0.02300191, 0.02300096, 0.02399755]),\n",
       " 'test_score': array([0.375     , 0.88888889, 0.5       , 0.66666667, 0.53658537]),\n",
       " 'train_score': array([0.95145631, 0.89583333, 0.97142857, 0.96153846, 0.98076923])}"
      ]
     },
     "execution_count": 13,
     "metadata": {},
     "output_type": "execute_result"
    }
   ],
   "source": [
    "cv_res2 = cross_validate(pipe_dif,\n",
    "                        X,\n",
    "                        y,\n",
    "                        cv=5,\n",
    "                        scoring='f1',\n",
    "                        n_jobs=-1,\n",
    "                        return_train_score=True\n",
    "                       )\n",
    "\n",
    "cv_res2"
   ]
  },
  {
   "cell_type": "code",
   "execution_count": 15,
   "id": "12353468",
   "metadata": {
    "ExecuteTime": {
     "end_time": "2021-10-24T20:19:28.657790Z",
     "start_time": "2021-10-24T20:19:28.653899Z"
    }
   },
   "outputs": [
    {
     "data": {
      "text/plain": [
       "0.5934281842818427"
      ]
     },
     "execution_count": 15,
     "metadata": {},
     "output_type": "execute_result"
    }
   ],
   "source": [
    "cv_res2['test_score'].mean()"
   ]
  },
  {
   "cell_type": "markdown",
   "id": "e894cf72",
   "metadata": {
    "ExecuteTime": {
     "end_time": "2021-10-24T13:09:24.240561Z",
     "start_time": "2021-10-24T13:09:24.235947Z"
    }
   },
   "source": [
    "train_score - просто класс ! модель получилась сложная, только очевидно переобученная ...\n",
    "\n",
    "согласны, узнали ?\n"
   ]
  },
  {
   "cell_type": "markdown",
   "id": "a13e9e9b",
   "metadata": {},
   "source": [
    "# Introduce feature selectors"
   ]
  },
  {
   "cell_type": "code",
   "execution_count": 16,
   "id": "51585f4e",
   "metadata": {
    "ExecuteTime": {
     "end_time": "2021-10-24T20:19:41.314430Z",
     "start_time": "2021-10-24T20:19:41.311959Z"
    }
   },
   "outputs": [],
   "source": [
    "data_tr = pipe_dif[:-1]"
   ]
  },
  {
   "cell_type": "code",
   "execution_count": 17,
   "id": "9a667395",
   "metadata": {
    "ExecuteTime": {
     "end_time": "2021-10-24T20:19:41.681665Z",
     "start_time": "2021-10-24T20:19:41.675526Z"
    }
   },
   "outputs": [
    {
     "data": {
      "text/plain": [
       "Pipeline(steps=[('cat_encoder_', LeaveOneOutEncoder(cols=['Type 1', 'Type 2'])),\n",
       "                ('poly_featurizer_', PolynomialFeatures(degree=4)),\n",
       "                ('scaler_', StandardScaler())])"
      ]
     },
     "execution_count": 17,
     "metadata": {},
     "output_type": "execute_result"
    }
   ],
   "source": [
    "data_tr"
   ]
  },
  {
   "cell_type": "code",
   "execution_count": 18,
   "id": "0703abb4",
   "metadata": {
    "ExecuteTime": {
     "end_time": "2021-10-24T20:19:42.141996Z",
     "start_time": "2021-10-24T20:19:42.095336Z"
    }
   },
   "outputs": [
    {
     "name": "stdout",
     "output_type": "stream",
     "text": [
      "data shape after transformation is (800, 1001)\n"
     ]
    },
    {
     "name": "stderr",
     "output_type": "stream",
     "text": [
      "c:\\programdata\\miniconda3\\lib\\site-packages\\category_encoders\\utils.py:21: FutureWarning: is_categorical is deprecated and will be removed in a future version.  Use is_categorical_dtype instead\n",
      "  elif pd.api.types.is_categorical(cols):\n"
     ]
    }
   ],
   "source": [
    "X_tr = data_tr.fit_transform(X, y)\n",
    "print(f'data shape after transformation is {X_tr.shape}')"
   ]
  },
  {
   "cell_type": "markdown",
   "id": "5e8cf9f1",
   "metadata": {},
   "source": [
    "1k признаков - многовато, добавим в пайплайн селектор"
   ]
  },
  {
   "cell_type": "markdown",
   "id": "940c6af8",
   "metadata": {},
   "source": [
    "## Фильтрационные методы\n",
    "\n",
    "Суть таких методов в том, чтобы для каждого признака посчитать некоторую метрику \"связи\" с целевым признаком. И в результате оставить топ-K признаков согласно выбранной метрике.\n",
    "\n",
    "В том числе на лекции обсуждались:\n",
    "\n",
    " - статистика хи-квадрат\n",
    " - метрика mutual information"
   ]
  },
  {
   "cell_type": "code",
   "execution_count": 19,
   "id": "add09679",
   "metadata": {
    "ExecuteTime": {
     "end_time": "2021-10-24T20:19:58.410888Z",
     "start_time": "2021-10-24T20:19:58.408446Z"
    }
   },
   "outputs": [],
   "source": [
    "from sklearn.feature_selection import f_classif, chi2, mutual_info_classif"
   ]
  },
  {
   "cell_type": "code",
   "execution_count": 23,
   "id": "fc62b4b6",
   "metadata": {
    "ExecuteTime": {
     "end_time": "2021-10-24T20:20:00.536469Z",
     "start_time": "2021-10-24T20:20:00.532952Z"
    }
   },
   "outputs": [],
   "source": [
    "k_best = 30\n",
    "\n",
    "pipe = Pipeline([\n",
    "    ('cat_encoder_', LeaveOneOutEncoder(cols=cat_cols)),\n",
    "    ('poly_featurizer_', PolynomialFeatures(degree=4)),\n",
    "    ('scaler_', StandardScaler()),\n",
    "    ('selector_', SelectKBest(score_func=mutual_info_classif, k=50)), \n",
    "    ('model_', SVC(kernel='linear'))]\n",
    ")"
   ]
  },
  {
   "cell_type": "code",
   "execution_count": 24,
   "id": "420e6db9",
   "metadata": {
    "ExecuteTime": {
     "end_time": "2021-10-24T20:20:18.022535Z",
     "start_time": "2021-10-24T20:20:06.144920Z"
    }
   },
   "outputs": [
    {
     "name": "stderr",
     "output_type": "stream",
     "text": [
      "c:\\programdata\\miniconda3\\lib\\site-packages\\category_encoders\\utils.py:21: FutureWarning: is_categorical is deprecated and will be removed in a future version.  Use is_categorical_dtype instead\n",
      "  elif pd.api.types.is_categorical(cols):\n",
      "c:\\programdata\\miniconda3\\lib\\site-packages\\category_encoders\\utils.py:21: FutureWarning: is_categorical is deprecated and will be removed in a future version.  Use is_categorical_dtype instead\n",
      "  elif pd.api.types.is_categorical(cols):\n",
      "c:\\programdata\\miniconda3\\lib\\site-packages\\category_encoders\\utils.py:21: FutureWarning: is_categorical is deprecated and will be removed in a future version.  Use is_categorical_dtype instead\n",
      "  elif pd.api.types.is_categorical(cols):\n",
      "c:\\programdata\\miniconda3\\lib\\site-packages\\category_encoders\\utils.py:21: FutureWarning: is_categorical is deprecated and will be removed in a future version.  Use is_categorical_dtype instead\n",
      "  elif pd.api.types.is_categorical(cols):\n",
      "c:\\programdata\\miniconda3\\lib\\site-packages\\category_encoders\\utils.py:21: FutureWarning: is_categorical is deprecated and will be removed in a future version.  Use is_categorical_dtype instead\n",
      "  elif pd.api.types.is_categorical(cols):\n"
     ]
    },
    {
     "data": {
      "text/plain": [
       "{'fit_time': array([3.45266271, 3.42299962, 3.37600183, 3.33699465, 3.77500916]),\n",
       " 'score_time': array([0.00999951, 0.00903654, 0.01003337, 0.01096606, 0.00999093]),\n",
       " 'test_score': array([0.14285714, 0.64      , 0.71428571, 0.42105263, 0.60465116]),\n",
       " 'train_score': array([0.78787879, 0.70103093, 0.76767677, 0.76      , 0.77894737])}"
      ]
     },
     "execution_count": 24,
     "metadata": {},
     "output_type": "execute_result"
    }
   ],
   "source": [
    "cv_res = cross_validate(pipe, X, y, cv=5, scoring='f1', return_train_score=True)\n",
    "cv_res"
   ]
  },
  {
   "cell_type": "code",
   "execution_count": 25,
   "id": "a2cdb237",
   "metadata": {
    "ExecuteTime": {
     "end_time": "2021-10-24T20:20:41.813570Z",
     "start_time": "2021-10-24T20:20:41.809915Z"
    }
   },
   "outputs": [
    {
     "data": {
      "text/plain": [
       "0.5045693303025004"
      ]
     },
     "execution_count": 25,
     "metadata": {},
     "output_type": "execute_result"
    }
   ],
   "source": [
    "# k best нужно подбирать\n",
    "\n",
    "cv_res['test_score'].mean()"
   ]
  },
  {
   "cell_type": "markdown",
   "id": "96bee3cd",
   "metadata": {},
   "source": [
    "## Жадный метод отбора"
   ]
  },
  {
   "cell_type": "code",
   "execution_count": 26,
   "id": "35170f0e",
   "metadata": {
    "ExecuteTime": {
     "end_time": "2021-10-24T20:20:53.902156Z",
     "start_time": "2021-10-24T20:20:53.899723Z"
    }
   },
   "outputs": [],
   "source": [
    "from sklearn.feature_selection import RFE\n",
    "from sklearn.linear_model import LogisticRegression"
   ]
  },
  {
   "cell_type": "code",
   "execution_count": 27,
   "id": "da1779fa",
   "metadata": {
    "ExecuteTime": {
     "end_time": "2021-10-24T20:25:10.673925Z",
     "start_time": "2021-10-24T20:25:10.671185Z"
    }
   },
   "outputs": [],
   "source": [
    "rfe = RFE(LogisticRegression(max_iter=1000), n_features_to_select=k_best, step=30)"
   ]
  },
  {
   "cell_type": "code",
   "execution_count": 28,
   "id": "e611b87e",
   "metadata": {
    "ExecuteTime": {
     "end_time": "2021-10-24T20:25:12.544188Z",
     "start_time": "2021-10-24T20:25:12.540659Z"
    }
   },
   "outputs": [
    {
     "data": {
      "text/plain": [
       "(800, 1001)"
      ]
     },
     "execution_count": 28,
     "metadata": {},
     "output_type": "execute_result"
    }
   ],
   "source": [
    "X_tr.shape"
   ]
  },
  {
   "cell_type": "code",
   "execution_count": 29,
   "id": "94f72041",
   "metadata": {
    "ExecuteTime": {
     "end_time": "2021-10-24T20:25:35.091025Z",
     "start_time": "2021-10-24T20:25:32.892926Z"
    }
   },
   "outputs": [
    {
     "data": {
      "text/plain": [
       "(800, 30)"
      ]
     },
     "metadata": {},
     "output_type": "display_data"
    },
    {
     "data": {
      "text/plain": [
       "array([[-0.98555744, -0.53089061, -0.76693052, ..., -0.40535388,\n",
       "        -0.52135831, -0.81966779],\n",
       "       [-0.48479877, -0.53089061, -0.49241971, ..., -0.16466941,\n",
       "        -0.18003271, -0.81698899],\n",
       "       [ 0.42451538, -0.53089061,  0.16799303, ...,  0.45023305,\n",
       "         0.73602435, -0.81341726],\n",
       "       ...,\n",
       "       [-0.16049792, -0.53089061, -0.38721114, ...,  3.97831918,\n",
       "         2.1076934 ,  4.18343684],\n",
       "       [-0.16049792, -0.53089061, -0.38721114, ...,  6.06069716,\n",
       "         2.51608978,  4.18343684],\n",
       "       [ 1.36562373, -0.53089061,  1.4358977 , ...,  1.4680924 ,\n",
       "         0.19750623,  2.6404483 ]])"
      ]
     },
     "execution_count": 29,
     "metadata": {},
     "output_type": "execute_result"
    }
   ],
   "source": [
    "res = rfe.fit_transform(X_tr, y)\n",
    "display(res.shape)\n",
    "res"
   ]
  },
  {
   "cell_type": "code",
   "execution_count": 30,
   "id": "86480235",
   "metadata": {
    "ExecuteTime": {
     "end_time": "2021-10-24T20:27:58.635555Z",
     "start_time": "2021-10-24T20:27:58.632190Z"
    }
   },
   "outputs": [],
   "source": [
    "pipe_rfe = Pipeline([\n",
    "    ('cat_encoder_', LeaveOneOutEncoder(cols=cat_cols)),\n",
    "    ('poly_featurizer_', PolynomialFeatures(degree=4)),\n",
    "    ('scaler_', StandardScaler()),\n",
    "    ('selector_', RFE(LogisticRegression(max_iter=1000),\n",
    "                      n_features_to_select=30,\n",
    "                      step=30\n",
    "                     )), \n",
    "    ('model_', SVC(kernel='linear'))])"
   ]
  },
  {
   "cell_type": "code",
   "execution_count": 31,
   "id": "b79dde57",
   "metadata": {
    "ExecuteTime": {
     "end_time": "2021-10-24T20:28:32.410710Z",
     "start_time": "2021-10-24T20:28:22.819441Z"
    }
   },
   "outputs": [
    {
     "name": "stderr",
     "output_type": "stream",
     "text": [
      "c:\\programdata\\miniconda3\\lib\\site-packages\\category_encoders\\utils.py:21: FutureWarning: is_categorical is deprecated and will be removed in a future version.  Use is_categorical_dtype instead\n",
      "  elif pd.api.types.is_categorical(cols):\n",
      "c:\\programdata\\miniconda3\\lib\\site-packages\\category_encoders\\utils.py:21: FutureWarning: is_categorical is deprecated and will be removed in a future version.  Use is_categorical_dtype instead\n",
      "  elif pd.api.types.is_categorical(cols):\n",
      "c:\\programdata\\miniconda3\\lib\\site-packages\\category_encoders\\utils.py:21: FutureWarning: is_categorical is deprecated and will be removed in a future version.  Use is_categorical_dtype instead\n",
      "  elif pd.api.types.is_categorical(cols):\n",
      "c:\\programdata\\miniconda3\\lib\\site-packages\\category_encoders\\utils.py:21: FutureWarning: is_categorical is deprecated and will be removed in a future version.  Use is_categorical_dtype instead\n",
      "  elif pd.api.types.is_categorical(cols):\n",
      "c:\\programdata\\miniconda3\\lib\\site-packages\\category_encoders\\utils.py:21: FutureWarning: is_categorical is deprecated and will be removed in a future version.  Use is_categorical_dtype instead\n",
      "  elif pd.api.types.is_categorical(cols):\n"
     ]
    },
    {
     "data": {
      "text/plain": [
       "{'fit_time': array([3.78596306, 4.41500068, 3.86500096, 3.73300171, 3.49599814]),\n",
       " 'score_time': array([0.0129993 , 0.01699758, 0.01000214, 0.01299548, 0.01699877]),\n",
       " 'test_score': array([0.375     , 0.84615385, 0.64285714, 0.66666667, 0.60606061]),\n",
       " 'train_score': array([0.90384615, 0.84536082, 0.96226415, 0.89583333, 0.94117647])}"
      ]
     },
     "execution_count": 31,
     "metadata": {},
     "output_type": "execute_result"
    }
   ],
   "source": [
    "cv_res3 = cross_validate(pipe_rfe, X, y, cv=5, scoring='f1', return_train_score=True)\n",
    "cv_res3"
   ]
  },
  {
   "cell_type": "code",
   "execution_count": 32,
   "id": "3b5cd4c4",
   "metadata": {
    "ExecuteTime": {
     "end_time": "2021-10-24T20:28:49.063014Z",
     "start_time": "2021-10-24T20:28:49.059094Z"
    }
   },
   "outputs": [
    {
     "data": {
      "text/plain": [
       "0.6273476523476524"
      ]
     },
     "execution_count": 32,
     "metadata": {},
     "output_type": "execute_result"
    }
   ],
   "source": [
    "cv_res3['test_score'].mean()"
   ]
  },
  {
   "cell_type": "markdown",
   "id": "49984ba9",
   "metadata": {},
   "source": [
    "## С помощью L1 регуляризации"
   ]
  },
  {
   "cell_type": "code",
   "execution_count": 33,
   "id": "0549efa7",
   "metadata": {
    "ExecuteTime": {
     "end_time": "2021-10-24T20:21:04.267409Z",
     "start_time": "2021-10-24T20:21:04.265012Z"
    }
   },
   "outputs": [],
   "source": [
    "from sklearn.feature_selection import SelectFromModel"
   ]
  },
  {
   "cell_type": "code",
   "execution_count": 47,
   "id": "3e8f05f6",
   "metadata": {
    "ExecuteTime": {
     "end_time": "2021-10-24T20:21:05.214768Z",
     "start_time": "2021-10-24T20:21:05.212084Z"
    }
   },
   "outputs": [],
   "source": [
    "sel = SelectFromModel(LogisticRegression(penalty='l1', max_iter=1000, solver='liblinear'), threshold=1e-5)"
   ]
  },
  {
   "cell_type": "code",
   "execution_count": 48,
   "id": "ad74ab5f",
   "metadata": {
    "ExecuteTime": {
     "end_time": "2021-10-24T20:21:06.595072Z",
     "start_time": "2021-10-24T20:21:06.468695Z"
    }
   },
   "outputs": [
    {
     "data": {
      "text/plain": [
       "(800, 48)"
      ]
     },
     "metadata": {},
     "output_type": "display_data"
    },
    {
     "data": {
      "text/plain": [
       "array([[-1.20562657, -0.94218651, -0.7732015 , ..., -0.52135831,\n",
       "        -0.72668962, -0.81966779],\n",
       "       [-1.20562657, -0.94218651, -0.33767384, ..., -0.18003271,\n",
       "        -0.70651232, -0.81698899],\n",
       "       [-1.20562657, -0.94218651,  0.6523422 , ...,  0.73602435,\n",
       "        -0.6731154 , -0.81341726],\n",
       "       ...,\n",
       "       [-1.20562657, -0.94218651,  0.80566326, ...,  2.1076934 ,\n",
       "         4.87819432,  4.18343684],\n",
       "       [-1.20562657, -0.94218651,  1.06849938, ...,  2.51608978,\n",
       "         4.87819432,  4.18343684],\n",
       "       [-1.20562657, -0.94218651,  2.2512619 , ...,  0.19750623,\n",
       "         1.93926564,  2.6404483 ]])"
      ]
     },
     "execution_count": 48,
     "metadata": {},
     "output_type": "execute_result"
    }
   ],
   "source": [
    "# пример\n",
    "\n",
    "res = sel.fit_transform(X_tr, y)\n",
    "display(res.shape)\n",
    "res"
   ]
  },
  {
   "cell_type": "code",
   "execution_count": 36,
   "id": "ea36b3e7",
   "metadata": {
    "ExecuteTime": {
     "end_time": "2021-10-24T20:21:07.682619Z",
     "start_time": "2021-10-24T20:21:07.679172Z"
    }
   },
   "outputs": [],
   "source": [
    "pipe_lasso =  Pipeline([\n",
    "    ('cat_encoder_', LeaveOneOutEncoder(cols=cat_cols)),\n",
    "    ('poly_featurizer_', PolynomialFeatures(degree=4)),\n",
    "    ('scaler_', StandardScaler()),\n",
    "    ('selector_', SelectFromModel(LogisticRegression(penalty='l1', max_iter=1000, solver='liblinear'), \n",
    "                                  threshold=1e-5)), \n",
    "    ('model_', SVC(kernel='linear'))])"
   ]
  },
  {
   "cell_type": "code",
   "execution_count": 37,
   "id": "d64eefd9",
   "metadata": {
    "ExecuteTime": {
     "end_time": "2021-10-24T20:21:11.587486Z",
     "start_time": "2021-10-24T20:21:11.070842Z"
    }
   },
   "outputs": [
    {
     "name": "stderr",
     "output_type": "stream",
     "text": [
      "c:\\programdata\\miniconda3\\lib\\site-packages\\category_encoders\\utils.py:21: FutureWarning: is_categorical is deprecated and will be removed in a future version.  Use is_categorical_dtype instead\n",
      "  elif pd.api.types.is_categorical(cols):\n",
      "c:\\programdata\\miniconda3\\lib\\site-packages\\category_encoders\\utils.py:21: FutureWarning: is_categorical is deprecated and will be removed in a future version.  Use is_categorical_dtype instead\n",
      "  elif pd.api.types.is_categorical(cols):\n",
      "c:\\programdata\\miniconda3\\lib\\site-packages\\category_encoders\\utils.py:21: FutureWarning: is_categorical is deprecated and will be removed in a future version.  Use is_categorical_dtype instead\n",
      "  elif pd.api.types.is_categorical(cols):\n",
      "c:\\programdata\\miniconda3\\lib\\site-packages\\category_encoders\\utils.py:21: FutureWarning: is_categorical is deprecated and will be removed in a future version.  Use is_categorical_dtype instead\n",
      "  elif pd.api.types.is_categorical(cols):\n",
      "c:\\programdata\\miniconda3\\lib\\site-packages\\category_encoders\\utils.py:21: FutureWarning: is_categorical is deprecated and will be removed in a future version.  Use is_categorical_dtype instead\n",
      "  elif pd.api.types.is_categorical(cols):\n"
     ]
    },
    {
     "data": {
      "text/plain": [
       "{'fit_time': array([0.13402843, 0.12497544, 0.11903644, 0.1200316 , 0.1219728 ]),\n",
       " 'score_time': array([0.01000619, 0.0099988 , 0.01098561, 0.00999856, 0.00903368]),\n",
       " 'test_score': array([0.44444444, 0.84615385, 0.66666667, 0.60869565, 0.66666667]),\n",
       " 'train_score': array([0.92307692, 0.89795918, 0.94117647, 0.93877551, 0.92929293])}"
      ]
     },
     "execution_count": 37,
     "metadata": {},
     "output_type": "execute_result"
    }
   ],
   "source": [
    "cv_res4 = cross_validate(pipe_lasso, X, y, cv=5, scoring='f1', return_train_score=True)\n",
    "cv_res4"
   ]
  },
  {
   "cell_type": "code",
   "execution_count": 38,
   "id": "a9d15749",
   "metadata": {
    "ExecuteTime": {
     "end_time": "2021-10-24T20:21:30.040594Z",
     "start_time": "2021-10-24T20:21:30.036835Z"
    }
   },
   "outputs": [
    {
     "data": {
      "text/plain": [
       "0.6465254552211073"
      ]
     },
     "execution_count": 38,
     "metadata": {},
     "output_type": "execute_result"
    }
   ],
   "source": [
    "cv_res4['test_score'].mean()"
   ]
  },
  {
   "cell_type": "markdown",
   "id": "a862a8fc",
   "metadata": {},
   "source": [
    "# PCA или метод главных компонент"
   ]
  },
  {
   "cell_type": "markdown",
   "id": "e588a79f",
   "metadata": {},
   "source": [
    "Цель: создать k новых признаков из какого-либо количества старых признаков, так чтобы \n",
    "- каждый из новых признаков был линейной комбинацией старых\n",
    "\n",
    "$z_i = u_1x_{1i} + ... + u_lx{li}$\n",
    "\n",
    "- и дисперсия $z_i$, то есть новых признаков была максимальной (наиболее информативной)\n",
    "\n",
    "С точки зрения линеной алгебры, процесс нахождения новых признаков из старых - это процесс проекции старых признаков на некоторую гиперплоскоть (линейное пространство). Как было показано на лекции, базисом этого пространства являются собственные вектора матрицы $X^TX$ - где Х - это центрированная матрица признаков\n",
    "\n",
    "Тогда чтобы найти новые признаки (главные компоненты) нужно сначала\n",
    "- найти собственные вектора V матрицы $X^TX$ (вектора должны быть приведены к длине 1)\n",
    "- произвести матричное умножение Z = XV (то есть сделать проекцию матрицы X на линейное пространство с базисом V)"
   ]
  },
  {
   "cell_type": "markdown",
   "id": "1448a4a8",
   "metadata": {},
   "source": [
    "## Задание\n",
    "\n",
    "a) Есть два признака, x1 = (1, 0, 0, 3), x2 = (3, 2, 0, 3). Найдите первую и вторую главные\n",
    "компоненты.\n",
    "\n",
    "б) Сколько дисперсии объясняется первой компонентой ?\n",
    "\n",
    "Взято из задачника Б.Б. Демешева"
   ]
  },
  {
   "cell_type": "code",
   "execution_count": 49,
   "id": "673eef9e",
   "metadata": {
    "ExecuteTime": {
     "end_time": "2021-10-24T20:21:43.048343Z",
     "start_time": "2021-10-24T20:21:43.045905Z"
    }
   },
   "outputs": [],
   "source": [
    "from sklearn.decomposition import PCA"
   ]
  },
  {
   "cell_type": "code",
   "execution_count": 56,
   "metadata": {},
   "outputs": [
    {
     "data": {
      "text/plain": [
       "array([[-0.70710678,  0.70710678],\n",
       "       [ 0.70710678,  0.70710678],\n",
       "       [ 2.12132034, -0.70710678],\n",
       "       [-2.12132034, -0.70710678]])"
      ]
     },
     "execution_count": 56,
     "metadata": {},
     "output_type": "execute_result"
    }
   ],
   "source": [
    "pca = PCA(n_components=2)\n",
    "\n",
    "#X = [[1,3],[0,2],[0,0],[3,3]]\n",
    "X = [[0,1],[-1,0],[-1,-2],[2,1]]\n",
    "pca.fit_transform(X)"
   ]
  },
  {
   "cell_type": "code",
   "execution_count": 52,
   "metadata": {},
   "outputs": [
    {
     "data": {
      "text/plain": [
       "array([0.83333333, 0.16666667])"
      ]
     },
     "execution_count": 52,
     "metadata": {},
     "output_type": "execute_result"
    }
   ],
   "source": [
    "pca.explained_variance_ratio_"
   ]
  },
  {
   "cell_type": "code",
   "execution_count": 57,
   "id": "9d2d7f4c",
   "metadata": {
    "ExecuteTime": {
     "end_time": "2021-10-24T20:21:43.917246Z",
     "start_time": "2021-10-24T20:21:43.914910Z"
    }
   },
   "outputs": [],
   "source": [
    "# пример\n",
    "\n",
    "pca = PCA(n_components = 15)"
   ]
  },
  {
   "cell_type": "code",
   "execution_count": 58,
   "id": "ae089c8a",
   "metadata": {
    "ExecuteTime": {
     "end_time": "2021-10-24T20:21:44.455269Z",
     "start_time": "2021-10-24T20:21:44.410736Z"
    }
   },
   "outputs": [
    {
     "data": {
      "text/plain": [
       "(800, 15)"
      ]
     },
     "metadata": {},
     "output_type": "display_data"
    },
    {
     "data": {
      "text/plain": [
       "array([[-1.98007291e+01,  4.46072632e+00, -4.82046552e-01, ...,\n",
       "         2.72352942e-02,  4.35136790e-01, -1.29265633e+00],\n",
       "       [-1.58785523e+01,  3.10134435e+00, -3.17353060e+00, ...,\n",
       "        -8.35892258e-01,  2.34626674e-01, -1.23753516e+00],\n",
       "       [-6.24072086e+00, -4.63280109e-01, -9.93003245e+00, ...,\n",
       "        -3.27946647e+00, -4.32351321e-01, -1.25616602e+00],\n",
       "       ...,\n",
       "       [ 3.26767745e+01,  1.50340452e+01, -2.46534010e+01, ...,\n",
       "         5.00567038e+00, -1.35742447e-02,  3.50894742e+00],\n",
       "       [ 5.53322261e+01,  1.48563726e+01, -3.86325556e+01, ...,\n",
       "         5.42283351e+00, -2.40413117e+00,  4.43465518e-01],\n",
       "       [ 1.99828053e+01, -4.60646431e+00, -2.56386391e+01, ...,\n",
       "         1.78416376e+00, -1.85425976e+00,  1.45714777e+00]])"
      ]
     },
     "execution_count": 58,
     "metadata": {},
     "output_type": "execute_result"
    }
   ],
   "source": [
    "res = pca.fit_transform(X_tr, y)\n",
    "display(res.shape)\n",
    "res"
   ]
  },
  {
   "cell_type": "code",
   "execution_count": 60,
   "id": "6327fe59",
   "metadata": {
    "ExecuteTime": {
     "end_time": "2021-10-24T20:21:45.114943Z",
     "start_time": "2021-10-24T20:21:45.110995Z"
    }
   },
   "outputs": [
    {
     "data": {
      "text/plain": [
       "0.9438803626963046"
      ]
     },
     "execution_count": 60,
     "metadata": {},
     "output_type": "execute_result"
    }
   ],
   "source": [
    "# суммарная доля объясненной дисперсии исходных признаков\n",
    "\n",
    "pca.explained_variance_ratio_.sum()"
   ]
  },
  {
   "cell_type": "code",
   "execution_count": 59,
   "id": "1e66b60f",
   "metadata": {
    "ExecuteTime": {
     "end_time": "2021-10-24T20:21:46.417863Z",
     "start_time": "2021-10-24T20:21:46.413876Z"
    }
   },
   "outputs": [
    {
     "data": {
      "text/plain": [
       "array([0.45670112, 0.1176569 , 0.08837368, 0.07259347, 0.05161779,\n",
       "       0.03907593, 0.03147126, 0.02632701, 0.01579202, 0.01454208,\n",
       "       0.00758009, 0.00692028, 0.00568022, 0.0051811 , 0.00436742])"
      ]
     },
     "execution_count": 59,
     "metadata": {},
     "output_type": "execute_result"
    }
   ],
   "source": [
    "# каждая следующая компонента менее информативна чем предыдущая\n",
    "pca.explained_variance_ratio_"
   ]
  },
  {
   "cell_type": "code",
   "execution_count": 69,
   "id": "21c5d39a",
   "metadata": {
    "ExecuteTime": {
     "end_time": "2021-10-24T20:22:54.348959Z",
     "start_time": "2021-10-24T20:22:53.763054Z"
    }
   },
   "outputs": [
    {
     "name": "stderr",
     "output_type": "stream",
     "text": [
      "c:\\programdata\\miniconda3\\lib\\site-packages\\category_encoders\\utils.py:21: FutureWarning: is_categorical is deprecated and will be removed in a future version.  Use is_categorical_dtype instead\n",
      "  elif pd.api.types.is_categorical(cols):\n",
      "c:\\programdata\\miniconda3\\lib\\site-packages\\category_encoders\\utils.py:21: FutureWarning: is_categorical is deprecated and will be removed in a future version.  Use is_categorical_dtype instead\n",
      "  elif pd.api.types.is_categorical(cols):\n",
      "c:\\programdata\\miniconda3\\lib\\site-packages\\category_encoders\\utils.py:21: FutureWarning: is_categorical is deprecated and will be removed in a future version.  Use is_categorical_dtype instead\n",
      "  elif pd.api.types.is_categorical(cols):\n",
      "c:\\programdata\\miniconda3\\lib\\site-packages\\category_encoders\\utils.py:21: FutureWarning: is_categorical is deprecated and will be removed in a future version.  Use is_categorical_dtype instead\n",
      "  elif pd.api.types.is_categorical(cols):\n",
      "c:\\programdata\\miniconda3\\lib\\site-packages\\category_encoders\\utils.py:21: FutureWarning: is_categorical is deprecated and will be removed in a future version.  Use is_categorical_dtype instead\n",
      "  elif pd.api.types.is_categorical(cols):\n"
     ]
    },
    {
     "data": {
      "text/plain": [
       "{'fit_time': array([0.13322496, 0.14600039, 0.12500024, 0.2340014 , 0.17100048]),\n",
       " 'score_time': array([0.01000166, 0.00999999, 0.01100183, 0.0150001 , 0.01100063]),\n",
       " 'test_score': array([0.55555556, 0.69565217, 0.47619048, 0.36363636, 0.8       ]),\n",
       " 'train_score': array([0.66666667, 0.57777778, 0.61728395, 0.68131868, 0.5952381 ])}"
      ]
     },
     "execution_count": 69,
     "metadata": {},
     "output_type": "execute_result"
    }
   ],
   "source": [
    "n_components = 5\n",
    "\n",
    "pipe_pca = Pipeline([\n",
    "    ('cat_encoder_', LeaveOneOutEncoder(cols=cat_cols)),\n",
    "    ('poly_featurizer_', PolynomialFeatures(degree=4)),\n",
    "    ('scaler_', StandardScaler()),\n",
    "    ('selector_', PCA(n_components=n_components)), \n",
    "    ('model_', SVC(kernel='linear'))])\n",
    "\n",
    "cv_res5 = cross_validate(pipe_pca, X, y, cv=5, scoring='f1', return_train_score=True)\n",
    "cv_res5"
   ]
  },
  {
   "cell_type": "code",
   "execution_count": 70,
   "id": "816500eb",
   "metadata": {
    "ExecuteTime": {
     "end_time": "2021-10-24T20:22:55.382265Z",
     "start_time": "2021-10-24T20:22:55.378364Z"
    }
   },
   "outputs": [
    {
     "data": {
      "text/plain": [
       "0.5782069138590878"
      ]
     },
     "execution_count": 70,
     "metadata": {},
     "output_type": "execute_result"
    }
   ],
   "source": [
    "cv_res5['test_score'].mean()"
   ]
  },
  {
   "cell_type": "code",
   "execution_count": null,
   "metadata": {},
   "outputs": [],
   "source": []
  }
 ],
 "metadata": {
  "kernelspec": {
   "display_name": "Python 3",
   "language": "python",
   "name": "python3"
  },
  "language_info": {
   "codemirror_mode": {
    "name": "ipython",
    "version": 3
   },
   "file_extension": ".py",
   "mimetype": "text/x-python",
   "name": "python",
   "nbconvert_exporter": "python",
   "pygments_lexer": "ipython3",
   "version": "3.7.6"
  },
  "toc": {
   "base_numbering": 1,
   "nav_menu": {},
   "number_sections": true,
   "sideBar": true,
   "skip_h1_title": false,
   "title_cell": "Table of Contents",
   "title_sidebar": "Contents",
   "toc_cell": false,
   "toc_position": {},
   "toc_section_display": true,
   "toc_window_display": false
  }
 },
 "nbformat": 4,
 "nbformat_minor": 5
}

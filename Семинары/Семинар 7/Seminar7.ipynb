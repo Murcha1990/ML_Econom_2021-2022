{
 "cells": [
  {
   "cell_type": "markdown",
   "id": "3f5e636c",
   "metadata": {},
   "source": [
    "# Тема семинара: отбор признаков\n",
    "\n",
    "- Фильтрационные методы\n",
    "- Оберточные методы\n",
    "- Встроенные методы\n",
    "- Метод главных компонент или PCA"
   ]
  },
  {
   "cell_type": "code",
   "execution_count": null,
   "id": "aed61698",
   "metadata": {
    "ExecuteTime": {
     "end_time": "2021-10-24T20:18:13.375480Z",
     "start_time": "2021-10-24T20:18:12.954646Z"
    }
   },
   "outputs": [],
   "source": [
    "import pandas as pd"
   ]
  },
  {
   "cell_type": "code",
   "execution_count": null,
   "id": "29a2c646",
   "metadata": {
    "ExecuteTime": {
     "end_time": "2021-10-24T20:18:13.744445Z",
     "start_time": "2021-10-24T20:18:13.737712Z"
    }
   },
   "outputs": [],
   "source": [
    "data = pd.read_csv('Pokemon.csv')"
   ]
  },
  {
   "cell_type": "code",
   "execution_count": null,
   "id": "69a8299d",
   "metadata": {
    "ExecuteTime": {
     "end_time": "2021-10-24T20:18:14.174945Z",
     "start_time": "2021-10-24T20:18:14.154295Z"
    }
   },
   "outputs": [],
   "source": [
    "data"
   ]
  },
  {
   "cell_type": "markdown",
   "id": "40294270",
   "metadata": {},
   "source": [
    "Columns description (it's crucial!)\n",
    "\n",
    "\n",
    "- #: ID for each pokemon\n",
    "- Name: Name of each pokemon\n",
    "- Type 1: Each pokemon has a type, this determines weakness/resistance to attacks\n",
    "- Type 2: Some pokemon are dual type and have 2\n",
    "- Total: sum of all stats that come after this, a general guide to how strong a pokemon is\n",
    "- HP: hit points, or health, defines how much damage a pokemon can withstand before fainting\n",
    "- Attack: the base modifier for normal attacks (eg. Scratch, Punch)\n",
    "- Defense: the base damage resistance against normal attacks\n",
    "- SP Atk: special attack, the base modifier for special attacks (e.g. fire blast, bubble beam)\n",
    "- SP Def: the base damage resistance against special attacks\n",
    "- Speed: determines which pokemon attacks first each round"
   ]
  },
  {
   "cell_type": "code",
   "execution_count": null,
   "id": "4a271f5c",
   "metadata": {
    "ExecuteTime": {
     "end_time": "2021-10-24T20:18:18.393785Z",
     "start_time": "2021-10-24T20:18:18.385916Z"
    }
   },
   "outputs": [],
   "source": [
    "# fillna and drop useless cols\n",
    "\n",
    "display(data.isnull().sum())\n",
    "data['Type 2'] = data['Type 2'].fillna('No 2nd type')\n",
    "\n",
    "data.drop(columns=['#', 'Name'], inplace=True)"
   ]
  },
  {
   "cell_type": "code",
   "execution_count": null,
   "id": "6ce9d92b",
   "metadata": {
    "ExecuteTime": {
     "end_time": "2021-10-24T20:18:19.432056Z",
     "start_time": "2021-10-24T20:18:19.428250Z"
    }
   },
   "outputs": [],
   "source": [
    "X = data.drop(columns='Legendary')\n",
    "y = data['Legendary'].astype('int')"
   ]
  },
  {
   "cell_type": "code",
   "execution_count": null,
   "id": "91c2b76a",
   "metadata": {
    "ExecuteTime": {
     "end_time": "2021-10-24T20:18:20.023876Z",
     "start_time": "2021-10-24T20:18:20.018390Z"
    }
   },
   "outputs": [],
   "source": [
    "y.value_counts(normalize=True)"
   ]
  },
  {
   "cell_type": "markdown",
   "id": "42ef3b76",
   "metadata": {},
   "source": [
    "# Make some default pipeline"
   ]
  },
  {
   "cell_type": "code",
   "execution_count": null,
   "id": "d3fbc11e",
   "metadata": {
    "ExecuteTime": {
     "end_time": "2021-10-24T20:18:25.238240Z",
     "start_time": "2021-10-24T20:18:24.565781Z"
    }
   },
   "outputs": [],
   "source": [
    "from sklearn.feature_selection import SelectKBest, SelectPercentile\n",
    "from sklearn.pipeline import Pipeline\n",
    "from sklearn.preprocessing import PolynomialFeatures, StandardScaler\n",
    "from category_encoders.leave_one_out import LeaveOneOutEncoder\n",
    "from sklearn.svm import SVC\n",
    "from sklearn.model_selection import cross_validate\n",
    "import sklearn"
   ]
  },
  {
   "cell_type": "code",
   "execution_count": null,
   "id": "db4dc8a2",
   "metadata": {
    "ExecuteTime": {
     "end_time": "2021-10-24T20:18:25.243494Z",
     "start_time": "2021-10-24T20:18:25.240399Z"
    }
   },
   "outputs": [],
   "source": [
    "# define cat_cols\n",
    "\n",
    "cat_cols = ['Type 1', 'Type 2']\n",
    "\n",
    "default_pipeline = Pipeline([\n",
    "    ('cat_encoder_', LeaveOneOutEncoder(cols=cat_cols)),\n",
    "    ('scaler_', StandardScaler()),\n",
    "    ('model_', SVC(kernel='linear'))]\n",
    ")"
   ]
  },
  {
   "cell_type": "code",
   "execution_count": null,
   "id": "0388c711",
   "metadata": {
    "ExecuteTime": {
     "end_time": "2021-10-24T20:18:31.094311Z",
     "start_time": "2021-10-24T20:18:30.089861Z"
    }
   },
   "outputs": [],
   "source": [
    "cv_res1 = cross_validate(default_pipeline,\n",
    "                        X,\n",
    "                        y,\n",
    "                        cv=5,\n",
    "                        scoring='f1',\n",
    "                        n_jobs=-1,\n",
    "                        return_train_score=True\n",
    "                       )"
   ]
  },
  {
   "cell_type": "code",
   "execution_count": null,
   "id": "5513cdd0",
   "metadata": {
    "ExecuteTime": {
     "end_time": "2021-10-24T20:18:33.772638Z",
     "start_time": "2021-10-24T20:18:33.767530Z"
    }
   },
   "outputs": [],
   "source": [
    "cv_res1"
   ]
  },
  {
   "cell_type": "code",
   "execution_count": null,
   "id": "cdf1fdc0",
   "metadata": {
    "ExecuteTime": {
     "end_time": "2021-10-24T20:19:02.086505Z",
     "start_time": "2021-10-24T20:19:02.082394Z"
    }
   },
   "outputs": [],
   "source": [
    "cv_res1['test_score'].mean()"
   ]
  },
  {
   "cell_type": "markdown",
   "id": "417004bb",
   "metadata": {},
   "source": [
    "# Make pipeline more complicated"
   ]
  },
  {
   "cell_type": "code",
   "execution_count": null,
   "id": "cc502d0e",
   "metadata": {
    "ExecuteTime": {
     "end_time": "2021-10-24T20:19:08.097819Z",
     "start_time": "2021-10-24T20:19:08.094458Z"
    }
   },
   "outputs": [],
   "source": [
    "# difficult pipeline\n",
    "\n",
    "pipe_dif = Pipeline([\n",
    "    ('cat_encoder_', LeaveOneOutEncoder(cols=cat_cols)),\n",
    "    ('poly_featurizer_', PolynomialFeatures(degree=4)),\n",
    "    ('scaler_', StandardScaler()),\n",
    "    ('model_', SVC(kernel='linear'))]\n",
    ")"
   ]
  },
  {
   "cell_type": "code",
   "execution_count": null,
   "id": "7c4f8152",
   "metadata": {
    "ExecuteTime": {
     "end_time": "2021-10-24T20:19:11.534278Z",
     "start_time": "2021-10-24T20:19:10.844040Z"
    }
   },
   "outputs": [],
   "source": [
    "cv_res2 = cross_validate(pipe_dif,\n",
    "                        X,\n",
    "                        y,\n",
    "                        cv=5,\n",
    "                        scoring='f1',\n",
    "                        n_jobs=-1,\n",
    "                        return_train_score=True\n",
    "                       )\n",
    "\n",
    "cv_res2"
   ]
  },
  {
   "cell_type": "code",
   "execution_count": null,
   "id": "12353468",
   "metadata": {
    "ExecuteTime": {
     "end_time": "2021-10-24T20:19:28.657790Z",
     "start_time": "2021-10-24T20:19:28.653899Z"
    }
   },
   "outputs": [],
   "source": [
    "cv_res2['test_score'].mean()"
   ]
  },
  {
   "cell_type": "markdown",
   "id": "e894cf72",
   "metadata": {
    "ExecuteTime": {
     "end_time": "2021-10-24T13:09:24.240561Z",
     "start_time": "2021-10-24T13:09:24.235947Z"
    }
   },
   "source": [
    "train_score - просто класс ! модель получилась сложная, только очевидно переобученная ...\n",
    "\n",
    "согласны, узнали ?\n"
   ]
  },
  {
   "cell_type": "markdown",
   "id": "a13e9e9b",
   "metadata": {},
   "source": [
    "# Introduce feature selectors"
   ]
  },
  {
   "cell_type": "code",
   "execution_count": null,
   "id": "51585f4e",
   "metadata": {
    "ExecuteTime": {
     "end_time": "2021-10-24T20:19:41.314430Z",
     "start_time": "2021-10-24T20:19:41.311959Z"
    }
   },
   "outputs": [],
   "source": [
    "data_tr = pipe_dif[:-1]"
   ]
  },
  {
   "cell_type": "code",
   "execution_count": null,
   "id": "9a667395",
   "metadata": {
    "ExecuteTime": {
     "end_time": "2021-10-24T20:19:41.681665Z",
     "start_time": "2021-10-24T20:19:41.675526Z"
    }
   },
   "outputs": [],
   "source": [
    "data_tr"
   ]
  },
  {
   "cell_type": "code",
   "execution_count": null,
   "id": "0703abb4",
   "metadata": {
    "ExecuteTime": {
     "end_time": "2021-10-24T20:19:42.141996Z",
     "start_time": "2021-10-24T20:19:42.095336Z"
    }
   },
   "outputs": [],
   "source": [
    "X_tr = data_tr.fit_transform(X, y)\n",
    "print(f'data shape after transformation is {X_tr.shape}')"
   ]
  },
  {
   "cell_type": "markdown",
   "id": "5e8cf9f1",
   "metadata": {},
   "source": [
    "1k признаков - многовато, добавим в пайплайн селектор"
   ]
  },
  {
   "cell_type": "markdown",
   "id": "940c6af8",
   "metadata": {},
   "source": [
    "## Фильтрационные методы\n",
    "\n",
    "Суть таких методов в том, чтобы для каждого признака посчитать некоторую метрику \"связи\" с целевым признаком. И в результате оставить топ-K признаков согласно выбранной метрике.\n",
    "\n",
    "В том числе на лекции обсуждались:\n",
    "\n",
    " - статистика хи-квадрат\n",
    " - метрика mutual information"
   ]
  },
  {
   "cell_type": "code",
   "execution_count": null,
   "id": "add09679",
   "metadata": {
    "ExecuteTime": {
     "end_time": "2021-10-24T20:19:58.410888Z",
     "start_time": "2021-10-24T20:19:58.408446Z"
    }
   },
   "outputs": [],
   "source": [
    "from sklearn.feature_selection import f_classif, chi2, mutual_info_classif"
   ]
  },
  {
   "cell_type": "code",
   "execution_count": null,
   "id": "fc62b4b6",
   "metadata": {
    "ExecuteTime": {
     "end_time": "2021-10-24T20:20:00.536469Z",
     "start_time": "2021-10-24T20:20:00.532952Z"
    }
   },
   "outputs": [],
   "source": [
    "k_best = 30\n",
    "\n",
    "pipe = Pipeline([\n",
    "    ('cat_encoder_', LeaveOneOutEncoder(cols=cat_cols)),\n",
    "    ('poly_featurizer_', PolynomialFeatures(degree=4)),\n",
    "    ('scaler_', StandardScaler()),\n",
    "    ('selector_', SelectKBest(score_func=mutual_info_classif, k=k_best)), \n",
    "    ('model_', SVC(kernel='linear'))]\n",
    ")\n",
    "\n"
   ]
  },
  {
   "cell_type": "code",
   "execution_count": null,
   "id": "420e6db9",
   "metadata": {
    "ExecuteTime": {
     "end_time": "2021-10-24T20:20:18.022535Z",
     "start_time": "2021-10-24T20:20:06.144920Z"
    }
   },
   "outputs": [],
   "source": [
    "cv_res = cross_validate(pipe, X, y, cv=5, scoring='f1', return_train_score=True)\n",
    "cv_res"
   ]
  },
  {
   "cell_type": "code",
   "execution_count": null,
   "id": "a2cdb237",
   "metadata": {
    "ExecuteTime": {
     "end_time": "2021-10-24T20:20:41.813570Z",
     "start_time": "2021-10-24T20:20:41.809915Z"
    }
   },
   "outputs": [],
   "source": [
    "# k best нужно подбирать\n",
    "\n",
    "cv_res['test_score'].mean()"
   ]
  },
  {
   "cell_type": "markdown",
   "id": "96bee3cd",
   "metadata": {},
   "source": [
    "## Жадный метод отбора"
   ]
  },
  {
   "cell_type": "code",
   "execution_count": null,
   "id": "35170f0e",
   "metadata": {
    "ExecuteTime": {
     "end_time": "2021-10-24T20:20:53.902156Z",
     "start_time": "2021-10-24T20:20:53.899723Z"
    }
   },
   "outputs": [],
   "source": [
    "from sklearn.feature_selection import RFE\n",
    "from sklearn.linear_model import LogisticRegression"
   ]
  },
  {
   "cell_type": "code",
   "execution_count": null,
   "id": "da1779fa",
   "metadata": {
    "ExecuteTime": {
     "end_time": "2021-10-24T20:25:10.673925Z",
     "start_time": "2021-10-24T20:25:10.671185Z"
    }
   },
   "outputs": [],
   "source": [
    "rfe = RFE(LogisticRegression(max_iter=1000), n_features_to_select=k_best, step=30)"
   ]
  },
  {
   "cell_type": "code",
   "execution_count": null,
   "id": "e611b87e",
   "metadata": {
    "ExecuteTime": {
     "end_time": "2021-10-24T20:25:12.544188Z",
     "start_time": "2021-10-24T20:25:12.540659Z"
    }
   },
   "outputs": [],
   "source": [
    "X_tr.shape"
   ]
  },
  {
   "cell_type": "code",
   "execution_count": null,
   "id": "94f72041",
   "metadata": {
    "ExecuteTime": {
     "end_time": "2021-10-24T20:25:35.091025Z",
     "start_time": "2021-10-24T20:25:32.892926Z"
    }
   },
   "outputs": [],
   "source": [
    "res = rfe.fit_transform(X_tr, y)\n",
    "display(res.shape)\n",
    "res"
   ]
  },
  {
   "cell_type": "code",
   "execution_count": null,
   "id": "86480235",
   "metadata": {
    "ExecuteTime": {
     "end_time": "2021-10-24T20:27:58.635555Z",
     "start_time": "2021-10-24T20:27:58.632190Z"
    }
   },
   "outputs": [],
   "source": [
    "pipe_rfe = Pipeline([\n",
    "    ('cat_encoder_', LeaveOneOutEncoder(cols=cat_cols)),\n",
    "    ('poly_featurizer_', PolynomialFeatures(degree=4)),\n",
    "    ('scaler_', StandardScaler()),\n",
    "    ('selector_', RFE(LogisticRegression(max_iter=1000),\n",
    "                      n_features_to_select=30,\n",
    "                      step=30\n",
    "                     )), \n",
    "    ('model_', SVC(kernel='linear'))])"
   ]
  },
  {
   "cell_type": "code",
   "execution_count": null,
   "id": "b79dde57",
   "metadata": {
    "ExecuteTime": {
     "end_time": "2021-10-24T20:28:32.410710Z",
     "start_time": "2021-10-24T20:28:22.819441Z"
    }
   },
   "outputs": [],
   "source": [
    "cv_res3 = cross_validate(pipe_rfe, X, y, cv=5, scoring='f1', return_train_score=True)\n",
    "cv_res3"
   ]
  },
  {
   "cell_type": "code",
   "execution_count": null,
   "id": "3b5cd4c4",
   "metadata": {
    "ExecuteTime": {
     "end_time": "2021-10-24T20:28:49.063014Z",
     "start_time": "2021-10-24T20:28:49.059094Z"
    }
   },
   "outputs": [],
   "source": [
    "cv_res3['test_score'].mean()"
   ]
  },
  {
   "cell_type": "markdown",
   "id": "49984ba9",
   "metadata": {},
   "source": [
    "## С помощью L1 регуляризации"
   ]
  },
  {
   "cell_type": "code",
   "execution_count": null,
   "id": "0549efa7",
   "metadata": {
    "ExecuteTime": {
     "end_time": "2021-10-24T20:21:04.267409Z",
     "start_time": "2021-10-24T20:21:04.265012Z"
    }
   },
   "outputs": [],
   "source": [
    "from sklearn.feature_selection import SelectFromModel"
   ]
  },
  {
   "cell_type": "code",
   "execution_count": null,
   "id": "3e8f05f6",
   "metadata": {
    "ExecuteTime": {
     "end_time": "2021-10-24T20:21:05.214768Z",
     "start_time": "2021-10-24T20:21:05.212084Z"
    }
   },
   "outputs": [],
   "source": [
    "sel = SelectFromModel(LogisticRegression(penalty='l1', max_iter=1000, solver='liblinear'), threshold=1e-5)"
   ]
  },
  {
   "cell_type": "code",
   "execution_count": null,
   "id": "ad74ab5f",
   "metadata": {
    "ExecuteTime": {
     "end_time": "2021-10-24T20:21:06.595072Z",
     "start_time": "2021-10-24T20:21:06.468695Z"
    }
   },
   "outputs": [],
   "source": [
    "# пример\n",
    "\n",
    "res = sel.fit_transform(X_tr, y)\n",
    "display(res.shape)\n",
    "res"
   ]
  },
  {
   "cell_type": "code",
   "execution_count": null,
   "id": "ea36b3e7",
   "metadata": {
    "ExecuteTime": {
     "end_time": "2021-10-24T20:21:07.682619Z",
     "start_time": "2021-10-24T20:21:07.679172Z"
    }
   },
   "outputs": [],
   "source": [
    "pipe_lasso =  Pipeline([\n",
    "    ('cat_encoder_', LeaveOneOutEncoder(cols=cat_cols)),\n",
    "    ('poly_featurizer_', PolynomialFeatures(degree=4)),\n",
    "    ('scaler_', StandardScaler()),\n",
    "    ('selector_', SelectFromModel(LogisticRegression(penalty='l1', max_iter=1000, solver='liblinear'), \n",
    "                                  threshold=1e-5)), \n",
    "    ('model_', SVC(kernel='linear'))])"
   ]
  },
  {
   "cell_type": "code",
   "execution_count": null,
   "id": "d64eefd9",
   "metadata": {
    "ExecuteTime": {
     "end_time": "2021-10-24T20:21:11.587486Z",
     "start_time": "2021-10-24T20:21:11.070842Z"
    }
   },
   "outputs": [],
   "source": [
    "cv_res4 = cross_validate(pipe_lasso, X, y, cv=5, scoring='f1', return_train_score=True)\n",
    "cv_res4"
   ]
  },
  {
   "cell_type": "code",
   "execution_count": null,
   "id": "a9d15749",
   "metadata": {
    "ExecuteTime": {
     "end_time": "2021-10-24T20:21:30.040594Z",
     "start_time": "2021-10-24T20:21:30.036835Z"
    }
   },
   "outputs": [],
   "source": [
    "cv_res4['test_score'].mean()"
   ]
  },
  {
   "cell_type": "markdown",
   "id": "a862a8fc",
   "metadata": {},
   "source": [
    "# PCA или метод главных компонент"
   ]
  },
  {
   "cell_type": "markdown",
   "id": "e588a79f",
   "metadata": {},
   "source": [
    "Цель: создать k новых признаков (обычно k <= 5) из какого-либо количества старых признаков, так чтобы \n",
    "- каждый из новых признаков был линейной комбинацией старых\n",
    "\n",
    "$z_i = u_1x_{1i} + ... + u_lx{li}$\n",
    "\n",
    "- и дисперсия $z_i$, то есть новых признаков была максимальной (наиболее информативной)\n",
    "\n",
    "С точки зрения линеной алгебры, процесс нахождения новых признаков из старых - это процесс проекции старых признаков на некоторую гиперплоскоть (линейное пространство). Как было показано на лекции, базисом этого пространства являются собственные вектора матрицы $X^TX$ - где Х - это центрированная матрица признаков\n",
    "\n",
    "Тогда чтобы найти новые признаки (главные компоненты) нужно сначала\n",
    "- найти собственные вектора V матрицы $X^TX$ (вектора должны быть приведены к длине 1)\n",
    "- произвести матричное умножение Z = XV (то есть сделать проекцию матрицы X на линейное пространство с базисом V)"
   ]
  },
  {
   "cell_type": "markdown",
   "id": "1448a4a8",
   "metadata": {},
   "source": [
    "## Задание\n",
    "\n",
    "a) Есть два признака, x1 = (1, 0, 0, 3), x2 = (3, 2, 0, 3). Найдите первую и вторую главные\n",
    "компоненты.\n",
    "\n",
    "б) Сколько дисперсии объясняется первой компонентой ?\n",
    "\n",
    "Взято из задачника Б.Б. Демешева"
   ]
  },
  {
   "cell_type": "code",
   "execution_count": null,
   "id": "673eef9e",
   "metadata": {
    "ExecuteTime": {
     "end_time": "2021-10-24T20:21:43.048343Z",
     "start_time": "2021-10-24T20:21:43.045905Z"
    }
   },
   "outputs": [],
   "source": [
    "from sklearn.decomposition import PCA"
   ]
  },
  {
   "cell_type": "code",
   "execution_count": null,
   "id": "9d2d7f4c",
   "metadata": {
    "ExecuteTime": {
     "end_time": "2021-10-24T20:21:43.917246Z",
     "start_time": "2021-10-24T20:21:43.914910Z"
    }
   },
   "outputs": [],
   "source": [
    "# пример\n",
    "\n",
    "pca = PCA(n_components = 15)"
   ]
  },
  {
   "cell_type": "code",
   "execution_count": null,
   "id": "ae089c8a",
   "metadata": {
    "ExecuteTime": {
     "end_time": "2021-10-24T20:21:44.455269Z",
     "start_time": "2021-10-24T20:21:44.410736Z"
    }
   },
   "outputs": [],
   "source": [
    "res = pca.fit_transform(X_tr, y)\n",
    "display(res.shape)\n",
    "res"
   ]
  },
  {
   "cell_type": "code",
   "execution_count": null,
   "id": "6327fe59",
   "metadata": {
    "ExecuteTime": {
     "end_time": "2021-10-24T20:21:45.114943Z",
     "start_time": "2021-10-24T20:21:45.110995Z"
    }
   },
   "outputs": [],
   "source": [
    "# суммарная доля объясненной дисперсии исходных признаков\n",
    "\n",
    "pca.explained_variance_ratio_.sum()"
   ]
  },
  {
   "cell_type": "code",
   "execution_count": null,
   "id": "1e66b60f",
   "metadata": {
    "ExecuteTime": {
     "end_time": "2021-10-24T20:21:46.417863Z",
     "start_time": "2021-10-24T20:21:46.413876Z"
    }
   },
   "outputs": [],
   "source": [
    "# каждая следующая компонента менее информативна чем предыдущая\n",
    "pca.explained_variance_ratio_"
   ]
  },
  {
   "cell_type": "code",
   "execution_count": null,
   "id": "21c5d39a",
   "metadata": {
    "ExecuteTime": {
     "end_time": "2021-10-24T20:22:54.348959Z",
     "start_time": "2021-10-24T20:22:53.763054Z"
    }
   },
   "outputs": [],
   "source": [
    "n_components = 3\n",
    "\n",
    "pipe_pca = Pipeline([\n",
    "    ('cat_encoder_', LeaveOneOutEncoder(cols=cat_cols)),\n",
    "    ('poly_featurizer_', PolynomialFeatures(degree=4)),\n",
    "    ('scaler_', StandardScaler()),\n",
    "    ('selector_', PCA(n_components=n_components)), \n",
    "    ('model_', SVC(kernel='linear'))])\n",
    "\n",
    "cv_res5 = cross_validate(pipe_pca, X, y, cv=5, scoring='f1', return_train_score=True)\n",
    "cv_res5"
   ]
  },
  {
   "cell_type": "code",
   "execution_count": null,
   "id": "816500eb",
   "metadata": {
    "ExecuteTime": {
     "end_time": "2021-10-24T20:22:55.382265Z",
     "start_time": "2021-10-24T20:22:55.378364Z"
    }
   },
   "outputs": [],
   "source": [
    "cv_res5['test_score'].mean()"
   ]
  }
 ],
 "metadata": {
  "kernelspec": {
   "display_name": "Python 3 (ipykernel)",
   "language": "python",
   "name": "python3"
  },
  "language_info": {
   "codemirror_mode": {
    "name": "ipython",
    "version": 3
   },
   "file_extension": ".py",
   "mimetype": "text/x-python",
   "name": "python",
   "nbconvert_exporter": "python",
   "pygments_lexer": "ipython3",
   "version": "3.9.5"
  },
  "toc": {
   "base_numbering": 1,
   "nav_menu": {},
   "number_sections": true,
   "sideBar": true,
   "skip_h1_title": false,
   "title_cell": "Table of Contents",
   "title_sidebar": "Contents",
   "toc_cell": false,
   "toc_position": {},
   "toc_section_display": true,
   "toc_window_display": false
  }
 },
 "nbformat": 4,
 "nbformat_minor": 5
}

{
 "cells": [
  {
   "cell_type": "markdown",
   "metadata": {},
   "source": [
    "### Градиентный бустинг. Часть 1\n",
    "\n",
    "#### План семинара:\n",
    "\n",
    "1. [Задачи по теории](#tasks)\n",
    "2. [Градиентный бустинг в sklearn](#sklearn)"
   ]
  },
  {
   "cell_type": "markdown",
   "metadata": {},
   "source": [
    "**Ключевая идея** градиентного бустинга - строим набор базовых алгоритмов, каждый из которых исправляет ошибку предыдущих. Так же, как и для дерева или случайного леса, можем использовать градиентый бустинг и для задачи регрессии, и для задачи классификации.\n",
    "\n",
    "Вспомним, из каких шагов он состоит. \n",
    "\n",
    "Будем обучать алгоритм, оптимизирующий некоторую дифференцируемую функцию потерь $L(y, z)$, в виде взвешенной суммы базовых алгоритмов:\n",
    "$$a_N(x) = \\sum_{n = 0}^{N} \\gamma_n b_n(x)$$\n",
    "\n",
    "Последовательно строим алгоритмы, учитывая ошибки построенной текущей композиции:\n",
    "$$\\sum_{i = 1}^{\\ell}\n",
    "        L(y_i, a_{N - 1}(x_i) + \\gamma_N b_N(x_i))\n",
    "    \\to\n",
    "    \\min_{b_N, \\gamma_N}$$\n",
    "\n",
    "Нужно задать $\\gamma_0$ и $b_0(x)$. Например, для регрессии\n",
    "можно положить $\\gamma_0 = 1$ и $b_0(x) = \\frac 1\\ell \\sum_{i=1}^\\ell y_i$.\n",
    "\n",
    "Последующие базовые алгоритмы стараются приблизить антиградиент функционала ошибки в точках $z = a_{N - 1}(x_i)$:\n",
    "$$ s_i\n",
    "    =\n",
    "    -\n",
    "    \\left.\n",
    "    \\frac{\\partial L(y_i, z)}{\\partial z}\n",
    "    \\right|_{z = a_{N - 1}(x_i)}$$\n",
    "\n",
    "Приближается антиградиент с точки зрения квадратичной функции потерь:\n",
    "$$b_N(x) = argmin_{b \\in A}\n",
    "        \\sum_{i = 1}^{\\ell}\n",
    "            \\left(\n",
    "                b(x_i) - s_i\n",
    "            \\right)^2$$\n",
    "\n",
    "Подбор коэффициентов производится просто через задачу одномерной оптимизации:\n",
    "$$\\gamma_N\n",
    "    =\n",
    "    argmin_{\\gamma \\in \\mathbb{R}}\n",
    "    \\sum_{i=1}^{\\ell}\n",
    "    L(y_i, a_{N-1}(x_i) + \\gamma b_N (x_i))$$\n",
    "    \n",
    "**Стоит обсудить несколько нюансов:**\n",
    "\n",
    "1. Зачем сдвиги в бустинге считаются через производные функции потерь?\n",
    "2. Почему базовый алгоритм будем приближать ошибки по MSE, а не по исходной функции потерь?\n",
    "3. Почему нельзя обучить одно глубокое решающее дерево?\n",
    "4. Градиентый бустинг - мощная модель, зачем тогда нужны и используются другие модели? "
   ]
  },
  {
   "cell_type": "markdown",
   "metadata": {},
   "source": [
    "#### Задачи по теории  <a name=\"tasks\"></a>"
   ]
  },
  {
   "cell_type": "markdown",
   "metadata": {},
   "source": [
    "Дана выборка из четырех наблюдений. На ней построены два дерева:\n",
    "\n",
    "|$$x_{i}$$|$$y_{i}$$|\n",
    "|---|---|\n",
    "|1|6|\n",
    "|2|6|\n",
    "|3|12|\n",
    "|4|18|\n",
    "\n",
    "<img src='task1.png' width=400>\n",
    "\n",
    "Давайте построим бэггинг. Первому дереву достались наблюдения 1, 1, 2 и 3. Второму дереву - наблюдения 2, 3, 4 и 4. \n",
    "\n",
    "**Задача 1.** Будем строить прогнозы в каждом листе, минимизируя сумму квадратов ошибок. \n",
    "\n",
    "1. Какие прогнозы внутри обучающей выборки мы получим с помощью такого леса?\n",
    "2. Сколько деревьев имеет смысл посадить, чтобы получить хорошие вневыборочные прогнозы по четырем наблюдениям?\n",
    "\n",
    "**Задача 2.** Теперь попробуем построить прогнозы, минимизируя функцию:\n",
    "\n",
    "$$Q = \\sum_{i=1}^n (y_i - \\hat y_i)^2 + \\lambda \\sum_{j=1}^T w_j^2,$$\n",
    "\n",
    "где $y_i$ — прогнозируемое значение для $i$-го наблюдения, $n$ — количество наблюдений, $w_j$ — прогноз в $j$-ом листе, $T$ — количество листов на дереве.\n",
    "\n",
    "1. Какие прогнозы внутри обучающей выборки мы получим с помощью такого леса? \n",
    "2. Построим бустинг с темпом обучения $\\mu$ и такой же функцией потерь. Какие прогнозы внутри обучающей выборки мы получим при $\\mu = 0.5$ и $\\lambda = 1$? \n",
    "3. Сколько деревьев для бэггинга имеет смысл посадить, чтобы получить хорошие вневыборочные прогнозы по четырем наблюдениям? Для бустинга?"
   ]
  },
  {
   "cell_type": "code",
   "execution_count": 1,
   "metadata": {},
   "outputs": [
    {
     "name": "stdout",
     "output_type": "stream",
     "text": [
      "Populating the interactive namespace from numpy and matplotlib\n"
     ]
    }
   ],
   "source": [
    "import warnings\n",
    "warnings.filterwarnings('ignore')\n",
    "\n",
    "from matplotlib import pylab as plt\n",
    "%pylab inline\n",
    "import numpy as np\n",
    "import pandas as pd\n",
    "from sklearn.ensemble import GradientBoostingClassifier, RandomForestClassifier\n",
    "from sklearn.model_selection import cross_val_score, train_test_split\n",
    "from sklearn.metrics import accuracy_score\n",
    "from time import time\n",
    "from tqdm import tqdm"
   ]
  },
  {
   "cell_type": "markdown",
   "metadata": {},
   "source": [
    "#### Градиентный бустинг в sklearn  <a name=\"sklearn\"></a>"
   ]
  },
  {
   "cell_type": "markdown",
   "metadata": {},
   "source": [
    "\n",
    "Сегодня поработаем с датасетом `Customer Personality Analysis` с платформы Kaggle. Подробнее про данные можно прочитать [тут](https://www.kaggle.com/imakash3011/customer-personality-analysis).\n",
    "\n",
    "Набор данных содрежит доступную информацию по клиентам и их покупательскому поведению. Сбор таких данных помогает бизнесу лучше понимать своих клиентов и облегчает им изменение продуктов в соответствии с конкретными потребностями, поведением и проблемами разных типов клиентов.\n",
    "\n",
    "Доступны следующие признаки:\n",
    "\n",
    "```\n",
    "Socio-demographic features\n",
    "\n",
    "ID: Customer's unique identifier\n",
    "Year_Birth: Customer's birth year\n",
    "Education: Customer's education level\n",
    "Marital_Status: Customer's marital status\n",
    "Income: Customer's yearly household income\n",
    "Kidhome: Number of children in customer's household\n",
    "Teenhome: Number of teenagers in customer's household\n",
    "Dt_Customer: Date of customer's enrollment with the company\n",
    "Recency: Number of days since customer's last purchase\n",
    "Complain: 1 if customer complained in the last 2 years, 0 otherwise\n",
    "\n",
    "Products\n",
    "\n",
    "MntWines: Amount spent on wine in last 2 years\n",
    "MntFruits: Amount spent on fruits in last 2 years\n",
    "MntMeatProducts: Amount spent on meat in last 2 years\n",
    "MntFishProducts: Amount spent on fish in last 2 years\n",
    "MntSweetProducts: Amount spent on sweets in last 2 years\n",
    "MntGoldProds: Amount spent on gold in last 2 years\n",
    "\n",
    "Promotion\n",
    "\n",
    "NumDealsPurchases: Number of purchases made with a discount\n",
    "AcceptedCmp1: 1 if customer accepted the offer in the 1st campaign, 0 otherwise\n",
    "AcceptedCmp2: 1 if customer accepted the offer in the 2nd campaign, 0 otherwise\n",
    "AcceptedCmp3: 1 if customer accepted the offer in the 3rd campaign, 0 otherwise\n",
    "AcceptedCmp4: 1 if customer accepted the offer in the 4th campaign, 0 otherwise\n",
    "AcceptedCmp5: 1 if customer accepted the offer in the 5th campaign, 0 otherwise\n",
    "\n",
    "Place\n",
    "\n",
    "NumWebPurchases: Number of purchases made through the company’s web site\n",
    "NumCatalogPurchases: Number of purchases made using a catalogue\n",
    "NumStorePurchases: Number of purchases made directly in stores\n",
    "NumWebVisitsMonth: Number of visits to company’s web site in the last month\n",
    "\n",
    "```\n",
    "\n",
    "На основе социально-демографических признаков и интересных статистик по истории покупок продуктов и участию в предыдущих маркетинговых акциях попробуем для каждого клиента предсказать, участвовал ли он в последней маркетинговой акции или нет:\n",
    "\n",
    "`Response: 1 if customer accepted the offer in the last campaign, 0 otherwise`\n",
    "\n",
    "Эта задача часто используется в маркетинге, чтобы заранее предсказывать, насколько новая промоакция будет успешной для выбранного сегмента пользователей.\n",
    "\n",
    "Посмотрим на датасет:"
   ]
  },
  {
   "cell_type": "code",
   "execution_count": 2,
   "metadata": {},
   "outputs": [
    {
     "data": {
      "text/html": [
       "<div>\n",
       "<style scoped>\n",
       "    .dataframe tbody tr th:only-of-type {\n",
       "        vertical-align: middle;\n",
       "    }\n",
       "\n",
       "    .dataframe tbody tr th {\n",
       "        vertical-align: top;\n",
       "    }\n",
       "\n",
       "    .dataframe thead th {\n",
       "        text-align: right;\n",
       "    }\n",
       "</style>\n",
       "<table border=\"1\" class=\"dataframe\">\n",
       "  <thead>\n",
       "    <tr style=\"text-align: right;\">\n",
       "      <th></th>\n",
       "      <th>ID</th>\n",
       "      <th>Year_Birth</th>\n",
       "      <th>Education</th>\n",
       "      <th>Marital_Status</th>\n",
       "      <th>Income</th>\n",
       "      <th>Kidhome</th>\n",
       "      <th>Teenhome</th>\n",
       "      <th>Dt_Customer</th>\n",
       "      <th>Recency</th>\n",
       "      <th>MntWines</th>\n",
       "      <th>...</th>\n",
       "      <th>NumWebVisitsMonth</th>\n",
       "      <th>AcceptedCmp3</th>\n",
       "      <th>AcceptedCmp4</th>\n",
       "      <th>AcceptedCmp5</th>\n",
       "      <th>AcceptedCmp1</th>\n",
       "      <th>AcceptedCmp2</th>\n",
       "      <th>Complain</th>\n",
       "      <th>Z_CostContact</th>\n",
       "      <th>Z_Revenue</th>\n",
       "      <th>Response</th>\n",
       "    </tr>\n",
       "  </thead>\n",
       "  <tbody>\n",
       "    <tr>\n",
       "      <th>0</th>\n",
       "      <td>5524</td>\n",
       "      <td>1957</td>\n",
       "      <td>Graduation</td>\n",
       "      <td>Single</td>\n",
       "      <td>58138.0</td>\n",
       "      <td>0</td>\n",
       "      <td>0</td>\n",
       "      <td>04-09-2012</td>\n",
       "      <td>58</td>\n",
       "      <td>635</td>\n",
       "      <td>...</td>\n",
       "      <td>7</td>\n",
       "      <td>0</td>\n",
       "      <td>0</td>\n",
       "      <td>0</td>\n",
       "      <td>0</td>\n",
       "      <td>0</td>\n",
       "      <td>0</td>\n",
       "      <td>3</td>\n",
       "      <td>11</td>\n",
       "      <td>1</td>\n",
       "    </tr>\n",
       "    <tr>\n",
       "      <th>1</th>\n",
       "      <td>2174</td>\n",
       "      <td>1954</td>\n",
       "      <td>Graduation</td>\n",
       "      <td>Single</td>\n",
       "      <td>46344.0</td>\n",
       "      <td>1</td>\n",
       "      <td>1</td>\n",
       "      <td>08-03-2014</td>\n",
       "      <td>38</td>\n",
       "      <td>11</td>\n",
       "      <td>...</td>\n",
       "      <td>5</td>\n",
       "      <td>0</td>\n",
       "      <td>0</td>\n",
       "      <td>0</td>\n",
       "      <td>0</td>\n",
       "      <td>0</td>\n",
       "      <td>0</td>\n",
       "      <td>3</td>\n",
       "      <td>11</td>\n",
       "      <td>0</td>\n",
       "    </tr>\n",
       "    <tr>\n",
       "      <th>2</th>\n",
       "      <td>4141</td>\n",
       "      <td>1965</td>\n",
       "      <td>Graduation</td>\n",
       "      <td>Together</td>\n",
       "      <td>71613.0</td>\n",
       "      <td>0</td>\n",
       "      <td>0</td>\n",
       "      <td>21-08-2013</td>\n",
       "      <td>26</td>\n",
       "      <td>426</td>\n",
       "      <td>...</td>\n",
       "      <td>4</td>\n",
       "      <td>0</td>\n",
       "      <td>0</td>\n",
       "      <td>0</td>\n",
       "      <td>0</td>\n",
       "      <td>0</td>\n",
       "      <td>0</td>\n",
       "      <td>3</td>\n",
       "      <td>11</td>\n",
       "      <td>0</td>\n",
       "    </tr>\n",
       "    <tr>\n",
       "      <th>3</th>\n",
       "      <td>6182</td>\n",
       "      <td>1984</td>\n",
       "      <td>Graduation</td>\n",
       "      <td>Together</td>\n",
       "      <td>26646.0</td>\n",
       "      <td>1</td>\n",
       "      <td>0</td>\n",
       "      <td>10-02-2014</td>\n",
       "      <td>26</td>\n",
       "      <td>11</td>\n",
       "      <td>...</td>\n",
       "      <td>6</td>\n",
       "      <td>0</td>\n",
       "      <td>0</td>\n",
       "      <td>0</td>\n",
       "      <td>0</td>\n",
       "      <td>0</td>\n",
       "      <td>0</td>\n",
       "      <td>3</td>\n",
       "      <td>11</td>\n",
       "      <td>0</td>\n",
       "    </tr>\n",
       "    <tr>\n",
       "      <th>4</th>\n",
       "      <td>5324</td>\n",
       "      <td>1981</td>\n",
       "      <td>PhD</td>\n",
       "      <td>Married</td>\n",
       "      <td>58293.0</td>\n",
       "      <td>1</td>\n",
       "      <td>0</td>\n",
       "      <td>19-01-2014</td>\n",
       "      <td>94</td>\n",
       "      <td>173</td>\n",
       "      <td>...</td>\n",
       "      <td>5</td>\n",
       "      <td>0</td>\n",
       "      <td>0</td>\n",
       "      <td>0</td>\n",
       "      <td>0</td>\n",
       "      <td>0</td>\n",
       "      <td>0</td>\n",
       "      <td>3</td>\n",
       "      <td>11</td>\n",
       "      <td>0</td>\n",
       "    </tr>\n",
       "  </tbody>\n",
       "</table>\n",
       "<p>5 rows × 29 columns</p>\n",
       "</div>"
      ],
      "text/plain": [
       "     ID  Year_Birth   Education Marital_Status   Income  Kidhome  Teenhome  \\\n",
       "0  5524        1957  Graduation         Single  58138.0        0         0   \n",
       "1  2174        1954  Graduation         Single  46344.0        1         1   \n",
       "2  4141        1965  Graduation       Together  71613.0        0         0   \n",
       "3  6182        1984  Graduation       Together  26646.0        1         0   \n",
       "4  5324        1981         PhD        Married  58293.0        1         0   \n",
       "\n",
       "  Dt_Customer  Recency  MntWines  ...  NumWebVisitsMonth  AcceptedCmp3  \\\n",
       "0  04-09-2012       58       635  ...                  7             0   \n",
       "1  08-03-2014       38        11  ...                  5             0   \n",
       "2  21-08-2013       26       426  ...                  4             0   \n",
       "3  10-02-2014       26        11  ...                  6             0   \n",
       "4  19-01-2014       94       173  ...                  5             0   \n",
       "\n",
       "   AcceptedCmp4  AcceptedCmp5  AcceptedCmp1  AcceptedCmp2  Complain  \\\n",
       "0             0             0             0             0         0   \n",
       "1             0             0             0             0         0   \n",
       "2             0             0             0             0         0   \n",
       "3             0             0             0             0         0   \n",
       "4             0             0             0             0         0   \n",
       "\n",
       "   Z_CostContact  Z_Revenue  Response  \n",
       "0              3         11         1  \n",
       "1              3         11         0  \n",
       "2              3         11         0  \n",
       "3              3         11         0  \n",
       "4              3         11         0  \n",
       "\n",
       "[5 rows x 29 columns]"
      ]
     },
     "execution_count": 2,
     "metadata": {},
     "output_type": "execute_result"
    }
   ],
   "source": [
    "df = pd.read_csv('marketing_campaign.csv', sep='\\t')\n",
    "df.head()"
   ]
  },
  {
   "cell_type": "markdown",
   "metadata": {},
   "source": [
    "На этом шаге нужно отдельно провести EDA: посмотреть, сколько у нас наблюдений и признаков, какого типа данных каждый признак; проверить наличие пропусков, выбросов и обработать их; сделать препроцессинг признаков - например, закодировать и нормализовать их; можно сгенерировать новые признаки на основе исходных и сделать обзор признаков и другое.\n",
    "\n",
    "Все эти шаги очень важны, но т.к. в этот раз хотим сфокусируемся на модели градиентного бустинга, отберем только пару признаков из датасета, обработаем пропущенные значения, и перейдем к обучению моделей для их сравнения."
   ]
  },
  {
   "cell_type": "code",
   "execution_count": 3,
   "metadata": {},
   "outputs": [
    {
     "data": {
      "text/plain": [
       "0    0.850893\n",
       "1    0.149107\n",
       "Name: Response, dtype: float64"
      ]
     },
     "execution_count": 3,
     "metadata": {},
     "output_type": "execute_result"
    }
   ],
   "source": [
    "X = df[['Year_Birth', 'Income', 'Kidhome', 'Recency', 'MntWines', \n",
    "        'MntSweetProducts', 'NumWebPurchases', 'NumStorePurchases', \n",
    "        'AcceptedCmp1', 'AcceptedCmp2', 'AcceptedCmp3', 'AcceptedCmp4', \n",
    "        'AcceptedCmp5']]\n",
    "y = df['Response']\n",
    "y.value_counts(normalize=True)"
   ]
  },
  {
   "cell_type": "code",
   "execution_count": 4,
   "metadata": {},
   "outputs": [
    {
     "data": {
      "text/plain": [
       "Year_Birth            0\n",
       "Income               24\n",
       "Kidhome               0\n",
       "Recency               0\n",
       "MntWines              0\n",
       "MntSweetProducts      0\n",
       "NumWebPurchases       0\n",
       "NumStorePurchases     0\n",
       "AcceptedCmp1          0\n",
       "AcceptedCmp2          0\n",
       "AcceptedCmp3          0\n",
       "AcceptedCmp4          0\n",
       "AcceptedCmp5          0\n",
       "dtype: int64"
      ]
     },
     "execution_count": 4,
     "metadata": {},
     "output_type": "execute_result"
    }
   ],
   "source": [
    "X.isna().sum()"
   ]
  },
  {
   "cell_type": "code",
   "execution_count": 5,
   "metadata": {},
   "outputs": [
    {
     "name": "stderr",
     "output_type": "stream",
     "text": [
      "100%|██████████| 13/13 [00:00<00:00, 749.23it/s]\n"
     ]
    }
   ],
   "source": [
    "for col in tqdm(X.columns):\n",
    "    X[col] = X[col].fillna(np.mean(X[col]))"
   ]
  },
  {
   "cell_type": "markdown",
   "metadata": {},
   "source": [
    "Воспользуемся имплементацией градиентного бустинга из sklearn. Обратите внимание, доступны отдельно модели для классификации и регрессии - `GradientBoostingClassifier` и `GradientBoostingRegressor`.\n",
    "\n",
    "Посмотрим на часть наиболее важных параметров для инициализации модели градиентного бустинга (для классификации). Как можно заметить, очень похоже на случайный лес:\n",
    "\n",
    "```\n",
    "loss='deviance' - функция потерь,\n",
    "learning_rate=0.1 - скорость обучения,\n",
    "n_estimators=100 - количество деревьев,\n",
    "subsample=1.0 - доля наблюдений для обучения каждого базового алгоритма,\n",
    "criterion='friedman_mse' - информационный критерий,\n",
    "min_samples_split=2 - минимальное количество наблюдений, чтобы продолжать разбиение выборки в текущем узле,\n",
    "min_samples_leaf=1 - минимальное количество наблюдений в листе,\n",
    "max_depth=3 - максимальная глубина каждого базового алгоритма,\n",
    "min_impurity_decrease=0.0 - сплит узла будет сделан, только если удалось достигнуть большего или равного увеличения значения по метрике степени упорядоченности выборки (impurity)\n",
    "по формуле N_t / N * (impurity - N_t_R / N_t * right_impurity - N_t_L / N_t * left_impurity)\n",
    "min_impurity_split=None - то же самое, только задаем само значение метрики,\n",
    "max_features=None - максимальное количество признаков, используемое для сплита,\n",
    "verbose=0 - показывать ли в выводе ячейки каждую итерацию обучения\n",
    "```"
   ]
  },
  {
   "cell_type": "markdown",
   "metadata": {},
   "source": [
    "Для разминки, построим градиентный бустинг с 10 деревьями. Поменяем только критерий и выведем значения функции ошибки для каждой итерации, остальные параметры оставим дефолтными. Обратите внимание, что в задаче классификации композиция базовых алгоритмов будет выдавать вещественные числа, которые по смыслу являются оценками логита - логарифм отношения вероятности положительного класса к вероятности отрицательного класса, поэтому используем `mse`. "
   ]
  },
  {
   "cell_type": "code",
   "execution_count": 6,
   "metadata": {},
   "outputs": [
    {
     "name": "stdout",
     "output_type": "stream",
     "text": [
      "      Iter       Train Loss   Remaining Time \n",
      "         1           0.7974            0.03s\n",
      "         2           0.7699            0.02s\n",
      "         3           0.7482            0.02s\n",
      "         4           0.7311            0.02s\n",
      "         5           0.7152            0.01s\n",
      "         6           0.7023            0.01s\n",
      "         7           0.6897            0.01s\n",
      "         8           0.6794            0.01s\n",
      "         9           0.6699            0.00s\n",
      "        10           0.6603            0.00s\n",
      "      Iter       Train Loss   Remaining Time \n",
      "         1           0.7951            0.02s\n",
      "         2           0.7641            0.02s\n",
      "         3           0.7408            0.01s\n",
      "         4           0.7207            0.01s\n",
      "         5           0.7056            0.01s\n",
      "         6           0.6889            0.01s\n",
      "         7           0.6750            0.01s\n",
      "         8           0.6634            0.00s\n",
      "         9           0.6522            0.00s\n",
      "        10           0.6424            0.00s\n",
      "      Iter       Train Loss   Remaining Time \n",
      "         1           0.7950            0.02s\n",
      "         2           0.7644            0.02s\n",
      "         3           0.7398            0.02s\n",
      "         4           0.7216            0.01s\n",
      "         5           0.7064            0.01s\n",
      "         6           0.6936            0.01s\n",
      "         7           0.6837            0.01s\n",
      "         8           0.6742            0.00s\n",
      "         9           0.6650            0.00s\n",
      "        10           0.6568            0.00s\n"
     ]
    },
    {
     "data": {
      "text/plain": [
       "0.87"
      ]
     },
     "execution_count": 6,
     "metadata": {},
     "output_type": "execute_result"
    }
   ],
   "source": [
    "model = GradientBoostingClassifier(\n",
    "    criterion='mse',\n",
    "    n_estimators=10,\n",
    "    random_state=42,\n",
    "    verbose=1\n",
    ")\n",
    "\n",
    "round(cross_val_score(model, X, y, cv=3, scoring='accuracy').mean(), 2)"
   ]
  },
  {
   "cell_type": "markdown",
   "metadata": {},
   "source": [
    "Сравним, как ведут себя градиентный бустинг и случайный лес (частный случай бэггинга) с ростом числа базовых алгоритмов.\n",
    "\n",
    "В **случайном лесе** все деревья настраиваются на различные выборки из одного и того же распределения. При этом, некоторые из них могут переобучиться, но усреднение позволяет это ослабить (для некоррелированных алгоритмов диперсия композиции оказывается в $N$ раз меньше разброса отдельных алгоритмов). Если $N$ достаточно велико, то последующие увеличение числа `n_estimators` не позволят улучшить качество модели.\n",
    "\n",
    "В **градиентном бустинге** при достаточно большом $N$ появляется риск переобучения, так как увеличение числа базовых алгоритмов `n_estimators` будет продолжать настраиваться на обучающую выборку, уменьшая ошибку на ней, в то же время уменьшая обобщающую способность итоговой модели.\n",
    "\n",
    "Нарисуем графики качества в зависимости от числа деревьев для случайного леса на тренировочной и тестовой выборках. Также, нарисуем график времени обучения алгоритма от числа деревьев."
   ]
  },
  {
   "cell_type": "code",
   "execution_count": 63,
   "metadata": {},
   "outputs": [],
   "source": [
    "from time import time\n",
    "\n",
    "def get_model_scores(selected_model, n_list=np.arange(10, 250, 20), learning_rate=0.1):\n",
    "    \n",
    "    acc_train = []\n",
    "    acc_test = []\n",
    "    time_list = []\n",
    "\n",
    "    n_list = n_list\n",
    "\n",
    "    X_train, X_test, y_train, y_test = train_test_split(X, y, test_size=0.8, random_state=42)\n",
    "\n",
    "    for n in tqdm(n_list):\n",
    "        model = selected_model(n_estimators=n, random_state=42)\n",
    "        # у RF нет параметра learning_rate\n",
    "        if type(model) == type(GradientBoostingClassifier()):\n",
    "            model.learning_rate = learning_rate \n",
    "        t_start = time()\n",
    "        model.fit(X_train, y_train)\n",
    "        t_end = time()\n",
    "        time_list.append(t_end - t_start)\n",
    "\n",
    "        preds_train = model.predict(X_train)\n",
    "        preds_test = model.predict(X_test)\n",
    "        acc_train.append(accuracy_score(y_train, preds_train))\n",
    "        acc_test.append(accuracy_score(y_test, preds_test))\n",
    "        \n",
    "    return acc_train, acc_test, time_list"
   ]
  },
  {
   "cell_type": "code",
   "execution_count": 64,
   "metadata": {},
   "outputs": [
    {
     "name": "stderr",
     "output_type": "stream",
     "text": [
      "100%|██████████| 12/12 [00:02<00:00,  4.60it/s]\n"
     ]
    },
    {
     "data": {
      "image/png": "[encoded data removed]",
      "text/plain": [
       "<Figure size 1080x360 with 3 Axes>"
      ]
     },
     "metadata": {
      "needs_background": "light"
     },
     "output_type": "display_data"
    }
   ],
   "source": [
    "acc_train, acc_test, time_list = get_model_scores(RandomForestClassifier)\n",
    "\n",
    "params = {1: [acc_train, 'Random Forest', 'Train'], \n",
    "          2: [acc_test, 'Random Forest', 'Test'], \n",
    "          3: [time_list, \"Random Forest training time\", 'Time']}\n",
    "\n",
    "def plot_graphs(params):\n",
    "    figure(figsize=(15, 5))\n",
    "    color = 'b'\n",
    "    n_list = np.arange(10, 250, 20)\n",
    "    for num in range(1, 4):\n",
    "        plt.subplot(1, 3, num)\n",
    "        if num == 3:\n",
    "            color = 'r'\n",
    "        plot(n_list, params[num][0], label=params[num][1], c=color)\n",
    "        plt.legend()\n",
    "        plt.title(params[num][2])\n",
    "\n",
    "plot_graphs(params)"
   ]
  },
  {
   "cell_type": "markdown",
   "metadata": {},
   "source": [
    "Отметим, что с качество случайного леса растет и на обучающей, и на тестовой выборке, но если на обучающей мы довольно быстро достигаем числа деревьев, после которого качество уже не растет, то на тестовых данных видим более интересную, \"зубчатую\" картинку. Время обучения с увеличением числа деревьев тоже ожидаемо увеличивается. \n",
    "\n",
    "Теперь посмотрим, как меняется качество бустинга при увеличении числа деревьев.\n",
    "\n",
    "Постройте аналогичные графики, но для градиентного бустинга."
   ]
  },
  {
   "cell_type": "code",
   "execution_count": 65,
   "metadata": {},
   "outputs": [
    {
     "name": "stderr",
     "output_type": "stream",
     "text": [
      "100%|██████████| 12/12 [00:01<00:00,  7.93it/s]\n"
     ]
    },
    {
     "data": {
      "image/png": "[encoded data removed]",
      "text/plain": [
       "<Figure size 1080x360 with 3 Axes>"
      ]
     },
     "metadata": {
      "needs_background": "light"
     },
     "output_type": "display_data"
    }
   ],
   "source": [
    "acc_train, acc_test, time_list = get_model_scores(GradientBoostingClassifier)\n",
    "params = {1: [acc_train, 'Gradient boosting', 'Train'], \n",
    "          2: [acc_test, 'Gradient boosting', 'Test'], \n",
    "          3: [time_list, \"GB training time\", 'Time']}\n",
    "\n",
    "plot_graphs(params)"
   ]
  },
  {
   "cell_type": "markdown",
   "metadata": {},
   "source": [
    "Видно, что у градиентный бустинг переобучился: его ошибка на обучающей выборке постоянно уменьшается, а ошибка на тестовых данных увеличивается, начиная с некоторого числа деревьев (так как на графике показано убывание точности (accuracy), равносильно сказать, что качество на тестовых данных падает). На train качество растет, на test падает - перед нами типичный случай переобучения. \n",
    "\n",
    "Значит, надо остановиться на некотором числе деревьев, с наименьшей ошибкой на графике на тестовых данных.\n",
    "\n",
    "Также, бороться с переобучением можно с помощью выбора очень простого базового алгоритма или\n",
    "снижением веса новых алгоритмов при помощи шага $\\eta$:\n",
    "$$a_N(x) = \\sum_{n=0}^N \\eta \\gamma_N b_n(x).$$\n",
    "\n",
    "$\\eta$ - это наш learning_rate. Его уменьшение замедлит обучение по сравнению с бэггингом, но зато позволит побороть переобучение, хотя не до конца - оно останется при увеличении количества базовых алгоритмов для фиксированного $\\eta$.\n",
    "\n",
    "Давайте поменяем значение с 0.1 на 0.01 и обучим градиентный бустинг еще раз:"
   ]
  },
  {
   "cell_type": "code",
   "execution_count": 66,
   "metadata": {},
   "outputs": [
    {
     "name": "stderr",
     "output_type": "stream",
     "text": [
      "100%|██████████| 12/12 [00:01<00:00,  8.16it/s]\n"
     ]
    },
    {
     "data": {
      "image/png": "[encoded data removed]",
      "text/plain": [
       "<Figure size 1080x360 with 3 Axes>"
      ]
     },
     "metadata": {
      "needs_background": "light"
     },
     "output_type": "display_data"
    }
   ],
   "source": [
    "acc_train, acc_test, time_list = get_model_scores(GradientBoostingClassifier, learning_rate=0.01)\n",
    "params = {1: [acc_train, 'Gradient boosting', 'Train'], \n",
    "          2: [acc_test, 'Gradient boosting', 'Test'], \n",
    "          3: [time_list, \"GB training time\", 'Time']}\n",
    "\n",
    "plot_graphs(params)"
   ]
  },
  {
   "cell_type": "markdown",
   "metadata": {},
   "source": [
    "Давайте попробуем улучшить качество, вспомним, что можно подбирать наилучшие гиперпараметры у модели через `GridSearchCV`. Подберите `max_features`, `max_depth` и `min_samples_leaf` для градиентного бустинга с его помощью."
   ]
  },
  {
   "cell_type": "code",
   "execution_count": 68,
   "metadata": {},
   "outputs": [],
   "source": [
    "from sklearn.model_selection import GridSearchCV"
   ]
  },
  {
   "cell_type": "markdown",
   "metadata": {},
   "source": [
    "Дефолтные параметры c accuracy 0.87 у нас были такие:"
   ]
  },
  {
   "cell_type": "code",
   "execution_count": 69,
   "metadata": {},
   "outputs": [
    {
     "data": {
      "text/plain": [
       "(None, 3, 1, 10)"
      ]
     },
     "execution_count": 69,
     "metadata": {},
     "output_type": "execute_result"
    }
   ],
   "source": [
    "model = GradientBoostingClassifier(\n",
    "    criterion='mse',\n",
    "    n_estimators=10,\n",
    "    random_state=42\n",
    ")\n",
    "\n",
    "model.max_features, model.max_depth, model.min_samples_leaf, model.n_estimators"
   ]
  },
  {
   "cell_type": "code",
   "execution_count": 71,
   "metadata": {},
   "outputs": [
    {
     "name": "stdout",
     "output_type": "stream",
     "text": [
      "Параметры лучшей модели по качеству на test: {'max_depth': 5, 'max_features': 10, 'min_samples_leaf': 16}\n",
      "Лучшая модель: GradientBoostingClassifier(criterion='mse', max_depth=5, max_features=10,\n",
      "                           min_samples_leaf=16, n_estimators=10,\n",
      "                           random_state=42)\n",
      "Лучшая Accuracy: 0.88\n",
      "\n",
      "CPU times: user 13.9 s, sys: 133 ms, total: 14 s\n",
      "Wall time: 14.5 s\n"
     ]
    }
   ],
   "source": [
    "%%time \n",
    "\n",
    "parameters = {'max_features': [3, 5, 10, None], \n",
    "              'max_depth': np.arange(1, 10, 2), \n",
    "              'min_samples_leaf': np.arange(1, 20, 5)}\n",
    "\n",
    "model = model = GradientBoostingClassifier(criterion='mse', n_estimators=10, random_state=42)\n",
    "clf = GridSearchCV(model, parameters)\n",
    "clf.fit(X, y)\n",
    "\n",
    "print(f'Параметры лучшей модели по качеству на test: {clf.best_params_}')\n",
    "print(f'Лучшая модель: {clf.best_estimator_}')\n",
    "print(f'Лучшая Accuracy: {round(clf.best_score_, 2)}', end='\\n\\n')"
   ]
  },
  {
   "cell_type": "markdown",
   "metadata": {},
   "source": [
    "#### Take away:\n",
    "\n",
    "Случайный лес и градиентный бустинг - это мощные ансамблевые алгоритмы, которые при должной настройке параметров показывают хорошее качество работы. Но надо помнить, что градиентный бустинг имеет склонность к переобучению с увеличением числа деревьев, и аккуратно подбирать число деревьев для алгоритма."
   ]
  },
  {
   "cell_type": "markdown",
   "metadata": {},
   "source": [
    "#### Дополнительные материалы для искушенных:\n",
    "    \n",
    "1. [Документация sklearn по GradientBoostingClassifier](https://scikit-learn.org/stable/modules/generated/sklearn.ensemble.GradientBoostingClassifier.html), [GradientBoostingRegressor](https://scikit-learn.org/stable/modules/generated/sklearn.ensemble.GradientBoostingRegressor.html)\n",
    "2. [Открытый курс машинного обучения. Тема 10. Градиентный бустинг](https://habr.com/ru/company/ods/blog/327250/)\n",
    "3. [Пишем XGBoost с нуля. Часть 1](https://habr.com/ru/company/vk/blog/438560/)\n",
    "4. [Пишем XGBoost с нуля. Часть 2](https://habr.com/ru/company/vk/blog/438562/)\n",
    "5. [Gradient Boosting explained](http://arogozhnikov.github.io/2016/06/24/gradient_boosting_explained.html)"
   ]
  },
  {
   "cell_type": "code",
   "execution_count": null,
   "metadata": {},
   "outputs": [],
   "source": []
  }
 ],
 "metadata": {
  "kernelspec": {
   "display_name": "Python 3",
   "language": "python",
   "name": "python3"
  },
  "language_info": {
   "codemirror_mode": {
    "name": "ipython",
    "version": 3
   },
   "file_extension": ".py",
   "mimetype": "text/x-python",
   "name": "python",
   "nbconvert_exporter": "python",
   "pygments_lexer": "ipython3",
   "version": "3.8.5"
  }
 },
 "nbformat": 4,
 "nbformat_minor": 2
}
